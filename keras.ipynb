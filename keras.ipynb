{
 "cells": [
  {
   "cell_type": "markdown",
   "id": "d838dde8-3894-4c62-b615-0542a634d3e1",
   "metadata": {},
   "source": [
    "[Problem 1] Sharing and executing the official tutorial model"
   ]
  },
  {
   "cell_type": "code",
   "execution_count": 1,
   "id": "5dda5911-4e7b-4982-9022-8231e5ed15cd",
   "metadata": {},
   "outputs": [],
   "source": [
    "import numpy as np\n",
    "import pandas as pd\n",
    "from sklearn.model_selection import train_test_split\n",
    "import tensorflow as tf\n",
    "import matplotlib.pyplot as plt\n",
    "from sklearn.preprocessing import StandardScaler"
   ]
  },
  {
   "cell_type": "code",
   "execution_count": 2,
   "id": "56e4da36-e6a6-464c-b1be-beb1b98b9faa",
   "metadata": {},
   "outputs": [],
   "source": [
    "# dataset\n",
    "mnist = tf.keras.datasets.mnist\n",
    "\n",
    "(x_train, y_train), (x_test, y_test) = mnist.load_data()\n",
    "x_train, x_test = x_train / 255.0, x_test / 255.0"
   ]
  },
  {
   "cell_type": "code",
   "execution_count": 3,
   "id": "b5f3e25d-66b1-4b6c-8046-5e6bd10567a4",
   "metadata": {},
   "outputs": [
    {
     "name": "stderr",
     "output_type": "stream",
     "text": [
      "C:\\Users\\o.oyuntuya\\AppData\\Local\\anaconda3\\envs\\OnlineTraining\\Lib\\site-packages\\keras\\src\\layers\\reshaping\\flatten.py:37: UserWarning: Do not pass an `input_shape`/`input_dim` argument to a layer. When using Sequential models, prefer using an `Input(shape)` object as the first layer in the model instead.\n",
      "  super().__init__(**kwargs)\n"
     ]
    }
   ],
   "source": [
    "# model architecture\n",
    "model = tf.keras.Sequential([tf.keras.layers.Flatten(input_shape=(28, 28)),\n",
    "                             tf.keras.layers.Dense(128, activation=tf.nn.relu),\n",
    "                             tf.keras.layers.Dropout(0.2),\n",
    "                             tf.keras.layers.Dense(10)])"
   ]
  },
  {
   "cell_type": "code",
   "execution_count": 4,
   "id": "ed967690-986b-4191-9aec-d95c5c06a05f",
   "metadata": {},
   "outputs": [
    {
     "data": {
      "text/plain": [
       "array([[ 0.04287296, -0.13277252, -0.2962924 , -0.98477226, -0.821373  ,\n",
       "         0.18173529,  0.08907125, -0.2500786 , -0.57735586, -0.32218835]],\n",
       "      dtype=float32)"
      ]
     },
     "execution_count": 4,
     "metadata": {},
     "output_type": "execute_result"
    }
   ],
   "source": [
    "# not trained model \n",
    "predictions = model(x_train[:1]).numpy()\n",
    "predictions"
   ]
  },
  {
   "cell_type": "code",
   "execution_count": 5,
   "id": "b3fd281f-fb95-40d3-b2e9-4de6aae05176",
   "metadata": {},
   "outputs": [
    {
     "data": {
      "text/plain": [
       "array([[0.1332484 , 0.11178415, 0.09492145, 0.04768275, 0.05614678,\n",
       "        0.15309788, 0.13954866, 0.09941109, 0.07166384, 0.09249493]],\n",
       "      dtype=float32)"
      ]
     },
     "execution_count": 5,
     "metadata": {},
     "output_type": "execute_result"
    }
   ],
   "source": [
    "# softmax\n",
    "tf.nn.softmax(predictions).numpy()"
   ]
  },
  {
   "cell_type": "code",
   "execution_count": 6,
   "id": "e20d77e2-ce97-450e-a7c7-16f842b14914",
   "metadata": {},
   "outputs": [],
   "source": [
    "# loss function \n",
    "loss_fn = tf.keras.losses.SparseCategoricalCrossentropy(from_logits=True)"
   ]
  },
  {
   "cell_type": "code",
   "execution_count": 7,
   "id": "2ca5c852-3601-4625-8089-d3635e2a30d8",
   "metadata": {},
   "outputs": [
    {
     "data": {
      "text/plain": [
       "1.8766778"
      ]
     },
     "execution_count": 7,
     "metadata": {},
     "output_type": "execute_result"
    }
   ],
   "source": [
    "# loss debug\n",
    "loss_fn(y_train[:1], predictions).numpy()"
   ]
  },
  {
   "cell_type": "code",
   "execution_count": 8,
   "id": "4b9ee03c-5018-4f4a-a237-2c648b26f381",
   "metadata": {},
   "outputs": [],
   "source": [
    "model.compile(loss=loss_fn,\n",
    "              optimizer='adam',\n",
    "              metrics=['accuracy'])"
   ]
  },
  {
   "cell_type": "code",
   "execution_count": 9,
   "id": "83e4c77e-bc4f-4671-a164-9f18e7f3c21b",
   "metadata": {},
   "outputs": [
    {
     "name": "stdout",
     "output_type": "stream",
     "text": [
      "Epoch 1/10\n",
      "\u001b[1m1875/1875\u001b[0m \u001b[32m━━━━━━━━━━━━━━━━━━━━\u001b[0m\u001b[37m\u001b[0m \u001b[1m3s\u001b[0m 943us/step - accuracy: 0.8639 - loss: 0.4788\n",
      "Epoch 2/10\n",
      "\u001b[1m1875/1875\u001b[0m \u001b[32m━━━━━━━━━━━━━━━━━━━━\u001b[0m\u001b[37m\u001b[0m \u001b[1m2s\u001b[0m 935us/step - accuracy: 0.9548 - loss: 0.1498\n",
      "Epoch 3/10\n",
      "\u001b[1m1875/1875\u001b[0m \u001b[32m━━━━━━━━━━━━━━━━━━━━\u001b[0m\u001b[37m\u001b[0m \u001b[1m2s\u001b[0m 944us/step - accuracy: 0.9667 - loss: 0.1109\n",
      "Epoch 4/10\n",
      "\u001b[1m1875/1875\u001b[0m \u001b[32m━━━━━━━━━━━━━━━━━━━━\u001b[0m\u001b[37m\u001b[0m \u001b[1m2s\u001b[0m 961us/step - accuracy: 0.9738 - loss: 0.0855\n",
      "Epoch 5/10\n",
      "\u001b[1m1875/1875\u001b[0m \u001b[32m━━━━━━━━━━━━━━━━━━━━\u001b[0m\u001b[37m\u001b[0m \u001b[1m2s\u001b[0m 944us/step - accuracy: 0.9770 - loss: 0.0725\n",
      "Epoch 6/10\n",
      "\u001b[1m1875/1875\u001b[0m \u001b[32m━━━━━━━━━━━━━━━━━━━━\u001b[0m\u001b[37m\u001b[0m \u001b[1m2s\u001b[0m 965us/step - accuracy: 0.9788 - loss: 0.0667\n",
      "Epoch 7/10\n",
      "\u001b[1m1875/1875\u001b[0m \u001b[32m━━━━━━━━━━━━━━━━━━━━\u001b[0m\u001b[37m\u001b[0m \u001b[1m2s\u001b[0m 1ms/step - accuracy: 0.9820 - loss: 0.0567\n",
      "Epoch 8/10\n",
      "\u001b[1m1875/1875\u001b[0m \u001b[32m━━━━━━━━━━━━━━━━━━━━\u001b[0m\u001b[37m\u001b[0m \u001b[1m2s\u001b[0m 926us/step - accuracy: 0.9818 - loss: 0.0529\n",
      "Epoch 9/10\n",
      "\u001b[1m1875/1875\u001b[0m \u001b[32m━━━━━━━━━━━━━━━━━━━━\u001b[0m\u001b[37m\u001b[0m \u001b[1m2s\u001b[0m 945us/step - accuracy: 0.9839 - loss: 0.0481\n",
      "Epoch 10/10\n",
      "\u001b[1m1875/1875\u001b[0m \u001b[32m━━━━━━━━━━━━━━━━━━━━\u001b[0m\u001b[37m\u001b[0m \u001b[1m2s\u001b[0m 943us/step - accuracy: 0.9854 - loss: 0.0425\n"
     ]
    },
    {
     "data": {
      "text/plain": [
       "<keras.src.callbacks.history.History at 0x1cb3a437bf0>"
      ]
     },
     "execution_count": 9,
     "metadata": {},
     "output_type": "execute_result"
    }
   ],
   "source": [
    "model.fit(x_train, y_train, epochs=10)"
   ]
  },
  {
   "cell_type": "code",
   "execution_count": 10,
   "id": "4a9c3f16-b976-4551-a76b-b5779cd2939b",
   "metadata": {},
   "outputs": [
    {
     "name": "stdout",
     "output_type": "stream",
     "text": [
      "313/313 - 0s - 963us/step - accuracy: 0.9794 - loss: 0.0741\n"
     ]
    },
    {
     "data": {
      "text/plain": [
       "[0.07412466406822205, 0.9793999791145325]"
      ]
     },
     "execution_count": 10,
     "metadata": {},
     "output_type": "execute_result"
    }
   ],
   "source": [
    "model.evaluate(x_test,  y_test, verbose=2)"
   ]
  },
  {
   "cell_type": "code",
   "execution_count": 11,
   "id": "619fa9a5-afd7-4555-b05c-a5f481150ea4",
   "metadata": {},
   "outputs": [
    {
     "data": {
      "text/plain": [
       "array([[0.   , 0.   , 0.   , 0.   , 0.975, 0.   , 0.   , 0.   , 0.   ,\n",
       "        0.025]], dtype=float32)"
      ]
     },
     "execution_count": 11,
     "metadata": {},
     "output_type": "execute_result"
    }
   ],
   "source": [
    "predictions = model(x_test[4:5]).numpy()\n",
    "np.round(tf.nn.softmax(predictions).numpy().astype(\"float32\"), 3)"
   ]
  },
  {
   "cell_type": "code",
   "execution_count": 12,
   "id": "3f4d0a29-29d5-42eb-bf90-adae11a9ac66",
   "metadata": {},
   "outputs": [],
   "source": [
    "probability_model = tf.keras.Sequential([\n",
    "  model,\n",
    "  tf.keras.layers.Softmax()\n",
    "])"
   ]
  },
  {
   "cell_type": "code",
   "execution_count": 13,
   "id": "5c12adc4-1762-4dec-a754-1eba8019289c",
   "metadata": {},
   "outputs": [
    {
     "data": {
      "text/plain": [
       "array([[0.   , 0.   , 0.   , 0.   , 0.   , 0.   , 0.   , 1.   , 0.   ,\n",
       "        0.   ],\n",
       "       [0.   , 0.   , 1.   , 0.   , 0.   , 0.   , 0.   , 0.   , 0.   ,\n",
       "        0.   ],\n",
       "       [0.   , 1.   , 0.   , 0.   , 0.   , 0.   , 0.   , 0.   , 0.   ,\n",
       "        0.   ],\n",
       "       [1.   , 0.   , 0.   , 0.   , 0.   , 0.   , 0.   , 0.   , 0.   ,\n",
       "        0.   ],\n",
       "       [0.   , 0.   , 0.   , 0.   , 0.975, 0.   , 0.   , 0.   , 0.   ,\n",
       "        0.025]], dtype=float32)"
      ]
     },
     "execution_count": 13,
     "metadata": {},
     "output_type": "execute_result"
    }
   ],
   "source": [
    "np.round(probability_model(x_test[:5]).numpy(), 3)"
   ]
  },
  {
   "cell_type": "markdown",
   "id": "b6bec299-d96f-4c04-87b5-e190d124589e",
   "metadata": {},
   "source": [
    "[Problem 2] (Advance assignment) Execute various methods"
   ]
  },
  {
   "cell_type": "markdown",
   "id": "39ced2a6-0afd-4b02-892e-4f6b8a6ac056",
   "metadata": {},
   "source": [
    "[Problem 3] Learning Iris (binary classification) with Keras\n"
   ]
  },
  {
   "cell_type": "code",
   "execution_count": 14,
   "id": "320471e2-87cf-452a-abc2-1927a8e17850",
   "metadata": {},
   "outputs": [],
   "source": [
    "df = pd.read_csv(\"import/iris.csv\")\n",
    "\n",
    "#Condition extraction from data frame\n",
    "df = df[(df[\"Species\"] == \"Iris-versicolor\") | (df[\"Species\"] == \"Iris-virginica\")]\n",
    "y = df[\"Species\"]\n",
    "X = df.loc[:, [\"SepalLengthCm\", \"SepalWidthCm\", \"PetalLengthCm\", \"PetalWidthCm\"]]\n",
    "# NumPy\n",
    "X = np.array(X)\n",
    "y = np.array(y)\n",
    "# Convert label to number\n",
    "y[y == \"Iris-versicolor\"] = 0\n",
    "y[y == \"Iris-virginica\"] = 1\n",
    "y = y.astype(np.int64)[:, np.newaxis]\n",
    "# Split into train and test\n",
    "X_train, X_test, y_train, y_test = train_test_split(X, y, test_size=0.2, random_state=0)\n",
    "# Split into train and val\n",
    "X_train, X_val, y_train, y_val = train_test_split(X_train, y_train, test_size=0.2, random_state=0)"
   ]
  },
  {
   "cell_type": "code",
   "execution_count": 15,
   "id": "0b639aad-19b2-4b10-b97b-fe6b795267f5",
   "metadata": {},
   "outputs": [],
   "source": [
    "# data scaling \n",
    "scaler = StandardScaler()\n",
    "scaler.fit(X_train)\n",
    "X_train = scaler.transform(X_train)\n",
    "X_test = scaler.transform(X_test)\n",
    "X_val = scaler.transform(X_val)"
   ]
  },
  {
   "cell_type": "code",
   "execution_count": 16,
   "id": "bf67bde8-7a49-43f6-ae04-9dc857039e0c",
   "metadata": {},
   "outputs": [],
   "source": [
    "# Hyperparameters\n",
    "learning_rate = 0.01\n",
    "batch_size = 20\n",
    "num_epochs = 20\n",
    "n_hidden1 = 50\n",
    "n_hidden2 = 100\n",
    "n_input = X_train.shape[1]\n",
    "n_samples = X_train.shape[0]\n",
    "n_classes = 1"
   ]
  },
  {
   "cell_type": "code",
   "execution_count": 20,
   "id": "9b467298-0d8e-4fb7-9c13-3713d4ae2e9b",
   "metadata": {},
   "outputs": [],
   "source": [
    "model = tf.keras.Sequential()\n",
    "model.add(tf.keras.layers.Dense(n_hidden1, activation='relu'))\n",
    "model.add(tf.keras.layers.Dense(n_hidden2, activation='relu'))\n",
    "model.add(tf.keras.layers.Dense(n_classes, activation='sigmoid'))"
   ]
  },
  {
   "cell_type": "code",
   "execution_count": 18,
   "id": "979b7644-d992-4017-acef-e766b7ae5a14",
   "metadata": {},
   "outputs": [
    {
     "data": {
      "text/html": [
       "<pre style=\"white-space:pre;overflow-x:auto;line-height:normal;font-family:Menlo,'DejaVu Sans Mono',consolas,'Courier New',monospace\"><span style=\"font-weight: bold\">Model: \"sequential_2\"</span>\n",
       "</pre>\n"
      ],
      "text/plain": [
       "\u001b[1mModel: \"sequential_2\"\u001b[0m\n"
      ]
     },
     "metadata": {},
     "output_type": "display_data"
    },
    {
     "data": {
      "text/html": [
       "<pre style=\"white-space:pre;overflow-x:auto;line-height:normal;font-family:Menlo,'DejaVu Sans Mono',consolas,'Courier New',monospace\">┏━━━━━━━━━━━━━━━━━━━━━━━━━━━━━━━━━┳━━━━━━━━━━━━━━━━━━━━━━━━┳━━━━━━━━━━━━━━━┓\n",
       "┃<span style=\"font-weight: bold\"> Layer (type)                    </span>┃<span style=\"font-weight: bold\"> Output Shape           </span>┃<span style=\"font-weight: bold\">       Param # </span>┃\n",
       "┡━━━━━━━━━━━━━━━━━━━━━━━━━━━━━━━━━╇━━━━━━━━━━━━━━━━━━━━━━━━╇━━━━━━━━━━━━━━━┩\n",
       "│ dense_2 (<span style=\"color: #0087ff; text-decoration-color: #0087ff\">Dense</span>)                 │ (<span style=\"color: #00d7ff; text-decoration-color: #00d7ff\">None</span>, <span style=\"color: #00af00; text-decoration-color: #00af00\">50</span>)             │           <span style=\"color: #00af00; text-decoration-color: #00af00\">250</span> │\n",
       "├─────────────────────────────────┼────────────────────────┼───────────────┤\n",
       "│ dense_3 (<span style=\"color: #0087ff; text-decoration-color: #0087ff\">Dense</span>)                 │ (<span style=\"color: #00d7ff; text-decoration-color: #00d7ff\">None</span>, <span style=\"color: #00af00; text-decoration-color: #00af00\">100</span>)            │         <span style=\"color: #00af00; text-decoration-color: #00af00\">5,100</span> │\n",
       "├─────────────────────────────────┼────────────────────────┼───────────────┤\n",
       "│ dense_4 (<span style=\"color: #0087ff; text-decoration-color: #0087ff\">Dense</span>)                 │ (<span style=\"color: #00d7ff; text-decoration-color: #00d7ff\">None</span>, <span style=\"color: #00af00; text-decoration-color: #00af00\">1</span>)              │           <span style=\"color: #00af00; text-decoration-color: #00af00\">101</span> │\n",
       "└─────────────────────────────────┴────────────────────────┴───────────────┘\n",
       "</pre>\n"
      ],
      "text/plain": [
       "┏━━━━━━━━━━━━━━━━━━━━━━━━━━━━━━━━━┳━━━━━━━━━━━━━━━━━━━━━━━━┳━━━━━━━━━━━━━━━┓\n",
       "┃\u001b[1m \u001b[0m\u001b[1mLayer (type)                   \u001b[0m\u001b[1m \u001b[0m┃\u001b[1m \u001b[0m\u001b[1mOutput Shape          \u001b[0m\u001b[1m \u001b[0m┃\u001b[1m \u001b[0m\u001b[1m      Param #\u001b[0m\u001b[1m \u001b[0m┃\n",
       "┡━━━━━━━━━━━━━━━━━━━━━━━━━━━━━━━━━╇━━━━━━━━━━━━━━━━━━━━━━━━╇━━━━━━━━━━━━━━━┩\n",
       "│ dense_2 (\u001b[38;5;33mDense\u001b[0m)                 │ (\u001b[38;5;45mNone\u001b[0m, \u001b[38;5;34m50\u001b[0m)             │           \u001b[38;5;34m250\u001b[0m │\n",
       "├─────────────────────────────────┼────────────────────────┼───────────────┤\n",
       "│ dense_3 (\u001b[38;5;33mDense\u001b[0m)                 │ (\u001b[38;5;45mNone\u001b[0m, \u001b[38;5;34m100\u001b[0m)            │         \u001b[38;5;34m5,100\u001b[0m │\n",
       "├─────────────────────────────────┼────────────────────────┼───────────────┤\n",
       "│ dense_4 (\u001b[38;5;33mDense\u001b[0m)                 │ (\u001b[38;5;45mNone\u001b[0m, \u001b[38;5;34m1\u001b[0m)              │           \u001b[38;5;34m101\u001b[0m │\n",
       "└─────────────────────────────────┴────────────────────────┴───────────────┘\n"
      ]
     },
     "metadata": {},
     "output_type": "display_data"
    },
    {
     "data": {
      "text/html": [
       "<pre style=\"white-space:pre;overflow-x:auto;line-height:normal;font-family:Menlo,'DejaVu Sans Mono',consolas,'Courier New',monospace\"><span style=\"font-weight: bold\"> Total params: </span><span style=\"color: #00af00; text-decoration-color: #00af00\">5,451</span> (21.29 KB)\n",
       "</pre>\n"
      ],
      "text/plain": [
       "\u001b[1m Total params: \u001b[0m\u001b[38;5;34m5,451\u001b[0m (21.29 KB)\n"
      ]
     },
     "metadata": {},
     "output_type": "display_data"
    },
    {
     "data": {
      "text/html": [
       "<pre style=\"white-space:pre;overflow-x:auto;line-height:normal;font-family:Menlo,'DejaVu Sans Mono',consolas,'Courier New',monospace\"><span style=\"font-weight: bold\"> Trainable params: </span><span style=\"color: #00af00; text-decoration-color: #00af00\">5,451</span> (21.29 KB)\n",
       "</pre>\n"
      ],
      "text/plain": [
       "\u001b[1m Trainable params: \u001b[0m\u001b[38;5;34m5,451\u001b[0m (21.29 KB)\n"
      ]
     },
     "metadata": {},
     "output_type": "display_data"
    },
    {
     "data": {
      "text/html": [
       "<pre style=\"white-space:pre;overflow-x:auto;line-height:normal;font-family:Menlo,'DejaVu Sans Mono',consolas,'Courier New',monospace\"><span style=\"font-weight: bold\"> Non-trainable params: </span><span style=\"color: #00af00; text-decoration-color: #00af00\">0</span> (0.00 B)\n",
       "</pre>\n"
      ],
      "text/plain": [
       "\u001b[1m Non-trainable params: \u001b[0m\u001b[38;5;34m0\u001b[0m (0.00 B)\n"
      ]
     },
     "metadata": {},
     "output_type": "display_data"
    }
   ],
   "source": [
    "model.summary()"
   ]
  },
  {
   "cell_type": "code",
   "execution_count": 21,
   "id": "f77fe8b1-eff8-41bd-864f-b46596ef1803",
   "metadata": {},
   "outputs": [],
   "source": [
    "model.compile(loss='binary_crossentropy',\n",
    "              optimizer=tf.optimizers.Adam(learning_rate=0.01),\n",
    "              metrics=['accuracy'])"
   ]
  },
  {
   "cell_type": "code",
   "execution_count": 22,
   "id": "df54e736-0193-4df5-b94a-5bae558c076d",
   "metadata": {},
   "outputs": [
    {
     "name": "stdout",
     "output_type": "stream",
     "text": [
      "Epoch 1/20\n",
      "4/4 - 2s - 398ms/step - accuracy: 0.7812 - loss: 0.5321 - val_accuracy: 1.0000 - val_loss: 0.1968\n",
      "Epoch 2/20\n",
      "4/4 - 0s - 11ms/step - accuracy: 0.9219 - loss: 0.2595 - val_accuracy: 1.0000 - val_loss: 0.0827\n",
      "Epoch 3/20\n",
      "4/4 - 0s - 12ms/step - accuracy: 0.9531 - loss: 0.1302 - val_accuracy: 1.0000 - val_loss: 0.0555\n",
      "Epoch 4/20\n",
      "4/4 - 0s - 10ms/step - accuracy: 0.9688 - loss: 0.0796 - val_accuracy: 0.9375 - val_loss: 0.0604\n",
      "Epoch 5/20\n",
      "4/4 - 0s - 12ms/step - accuracy: 0.9688 - loss: 0.0524 - val_accuracy: 0.9375 - val_loss: 0.0554\n",
      "Epoch 6/20\n",
      "4/4 - 0s - 11ms/step - accuracy: 1.0000 - loss: 0.0325 - val_accuracy: 1.0000 - val_loss: 0.0379\n",
      "Epoch 7/20\n",
      "4/4 - 0s - 10ms/step - accuracy: 1.0000 - loss: 0.0186 - val_accuracy: 1.0000 - val_loss: 0.0175\n",
      "Epoch 8/20\n",
      "4/4 - 0s - 10ms/step - accuracy: 1.0000 - loss: 0.0095 - val_accuracy: 1.0000 - val_loss: 0.0099\n",
      "Epoch 9/20\n",
      "4/4 - 0s - 10ms/step - accuracy: 1.0000 - loss: 0.0074 - val_accuracy: 1.0000 - val_loss: 0.0057\n",
      "Epoch 10/20\n",
      "4/4 - 0s - 11ms/step - accuracy: 1.0000 - loss: 0.0056 - val_accuracy: 1.0000 - val_loss: 0.0051\n",
      "Epoch 11/20\n",
      "4/4 - 0s - 10ms/step - accuracy: 1.0000 - loss: 0.0038 - val_accuracy: 1.0000 - val_loss: 0.0041\n",
      "Epoch 12/20\n",
      "4/4 - 0s - 10ms/step - accuracy: 1.0000 - loss: 0.0028 - val_accuracy: 1.0000 - val_loss: 0.0037\n",
      "Epoch 13/20\n",
      "4/4 - 0s - 13ms/step - accuracy: 1.0000 - loss: 0.0022 - val_accuracy: 1.0000 - val_loss: 0.0042\n",
      "Epoch 14/20\n",
      "4/4 - 0s - 10ms/step - accuracy: 1.0000 - loss: 0.0015 - val_accuracy: 1.0000 - val_loss: 0.0049\n",
      "Epoch 15/20\n",
      "4/4 - 0s - 11ms/step - accuracy: 1.0000 - loss: 0.0013 - val_accuracy: 1.0000 - val_loss: 0.0059\n",
      "Epoch 16/20\n",
      "4/4 - 0s - 10ms/step - accuracy: 1.0000 - loss: 0.0011 - val_accuracy: 1.0000 - val_loss: 0.0068\n",
      "Epoch 17/20\n",
      "4/4 - 0s - 10ms/step - accuracy: 1.0000 - loss: 9.5772e-04 - val_accuracy: 1.0000 - val_loss: 0.0070\n",
      "Epoch 18/20\n",
      "4/4 - 0s - 11ms/step - accuracy: 1.0000 - loss: 8.5036e-04 - val_accuracy: 1.0000 - val_loss: 0.0068\n",
      "Epoch 19/20\n",
      "4/4 - 0s - 10ms/step - accuracy: 1.0000 - loss: 7.7417e-04 - val_accuracy: 1.0000 - val_loss: 0.0057\n",
      "Epoch 20/20\n",
      "4/4 - 0s - 10ms/step - accuracy: 1.0000 - loss: 7.0985e-04 - val_accuracy: 1.0000 - val_loss: 0.0039\n"
     ]
    }
   ],
   "source": [
    "history = model.fit(X_train, y_train,\n",
    "                    batch_size=batch_size,\n",
    "                    epochs=num_epochs,\n",
    "                    validation_data=(X_val, y_val),\n",
    "                    verbose=2)"
   ]
  },
  {
   "cell_type": "code",
   "execution_count": 24,
   "id": "dd733198-19d2-4bfa-82f3-8cdb125d03bc",
   "metadata": {},
   "outputs": [
    {
     "name": "stdout",
     "output_type": "stream",
     "text": [
      "Train loss: 0.0006501288153231144\n",
      "Train accuracy: 1.0\n"
     ]
    }
   ],
   "source": [
    "score = model.evaluate(X_train, y_train, verbose=0)\n",
    "print('Train loss:', score[0])\n",
    "print('Train accuracy:', score[1])"
   ]
  },
  {
   "cell_type": "markdown",
   "id": "5afc8b60-9077-41b9-b20e-8aa1623115c1",
   "metadata": {},
   "source": [
    "[Problem 4] Learn Iris (multi-level classification) with Keras"
   ]
  },
  {
   "cell_type": "code",
   "execution_count": 25,
   "id": "1053158b-85c9-4913-bd95-a97fce34dd76",
   "metadata": {},
   "outputs": [],
   "source": [
    "from sklearn.preprocessing import OneHotEncoder\n",
    "df = pd.read_csv(\"import/iris.csv\")\n",
    "\n",
    "#Condition extraction from data frame\n",
    "y = df[\"Species\"]\n",
    "X = df.loc[:, [\"SepalLengthCm\", \"SepalWidthCm\", \"PetalLengthCm\", \"PetalWidthCm\"]]\n",
    "y = np.array(y)\n",
    "X = np.array(X).astype(np.float32)\n",
    "\n",
    "# Convert label to number\n",
    "y[y == \"Iris-setosa\"] = 0\n",
    "y[y == \"Iris-versicolor\"] = 1\n",
    "y[y == \"Iris-virginica\"] = 2\n",
    "\n",
    "# One Hot encoder\n",
    "enc = OneHotEncoder(handle_unknown='ignore')\n",
    "y = enc.fit_transform(y[:, np.newaxis]).toarray()\n",
    "\n",
    "# Split into train and test\n",
    "X_train, X_test, y_train, y_test = train_test_split(X, y, test_size=0.2, random_state=0)\n",
    "# Split into train and val\n",
    "X_train, X_val, y_train, y_val = train_test_split(X_train, y_train, test_size=0.2, random_state=0)"
   ]
  },
  {
   "cell_type": "code",
   "execution_count": 26,
   "id": "bb726877-19ac-43be-9cec-32611aa34f33",
   "metadata": {},
   "outputs": [],
   "source": [
    "# Standardizing\n",
    "scaler = StandardScaler()\n",
    "scaler.fit(X_train)\n",
    "X_train = scaler.transform(X_train)\n",
    "X_test = scaler.transform(X_test)\n",
    "X_val = scaler.transform(X_val)"
   ]
  },
  {
   "cell_type": "code",
   "execution_count": 27,
   "id": "cb04a530-34bc-4ad9-b175-aaebcc2b4cb0",
   "metadata": {},
   "outputs": [],
   "source": [
    "# Hyperparameters\n",
    "learning_rate = 0.01\n",
    "batch_size = 20\n",
    "num_epochs = 20\n",
    "n_hidden1 = 50\n",
    "n_hidden2 = 100\n",
    "n_input = X_train.shape[1]\n",
    "n_samples = X_train.shape[0]\n",
    "n_classes = 3"
   ]
  },
  {
   "cell_type": "code",
   "execution_count": 28,
   "id": "8848c39b-8b09-432a-87a2-97870bc1aaee",
   "metadata": {},
   "outputs": [],
   "source": [
    "model = tf.keras.Sequential()\n",
    "model.add(tf.keras.layers.Input(shape=(n_input,)))\n",
    "model.add(tf.keras.layers.Dense(n_hidden1, activation='relu'))\n",
    "model.add(tf.keras.layers.Dense(n_hidden2, activation='relu'))\n",
    "model.add(tf.keras.layers.Dense(n_classes, activation='softmax')) "
   ]
  },
  {
   "cell_type": "code",
   "execution_count": 29,
   "id": "7d6aa762-5fd7-40af-94d9-35680ea440f9",
   "metadata": {},
   "outputs": [
    {
     "data": {
      "text/html": [
       "<pre style=\"white-space:pre;overflow-x:auto;line-height:normal;font-family:Menlo,'DejaVu Sans Mono',consolas,'Courier New',monospace\"><span style=\"font-weight: bold\">Model: \"sequential_4\"</span>\n",
       "</pre>\n"
      ],
      "text/plain": [
       "\u001b[1mModel: \"sequential_4\"\u001b[0m\n"
      ]
     },
     "metadata": {},
     "output_type": "display_data"
    },
    {
     "data": {
      "text/html": [
       "<pre style=\"white-space:pre;overflow-x:auto;line-height:normal;font-family:Menlo,'DejaVu Sans Mono',consolas,'Courier New',monospace\">┏━━━━━━━━━━━━━━━━━━━━━━━━━━━━━━━━━┳━━━━━━━━━━━━━━━━━━━━━━━━┳━━━━━━━━━━━━━━━┓\n",
       "┃<span style=\"font-weight: bold\"> Layer (type)                    </span>┃<span style=\"font-weight: bold\"> Output Shape           </span>┃<span style=\"font-weight: bold\">       Param # </span>┃\n",
       "┡━━━━━━━━━━━━━━━━━━━━━━━━━━━━━━━━━╇━━━━━━━━━━━━━━━━━━━━━━━━╇━━━━━━━━━━━━━━━┩\n",
       "│ dense_8 (<span style=\"color: #0087ff; text-decoration-color: #0087ff\">Dense</span>)                 │ (<span style=\"color: #00d7ff; text-decoration-color: #00d7ff\">None</span>, <span style=\"color: #00af00; text-decoration-color: #00af00\">50</span>)             │           <span style=\"color: #00af00; text-decoration-color: #00af00\">250</span> │\n",
       "├─────────────────────────────────┼────────────────────────┼───────────────┤\n",
       "│ dense_9 (<span style=\"color: #0087ff; text-decoration-color: #0087ff\">Dense</span>)                 │ (<span style=\"color: #00d7ff; text-decoration-color: #00d7ff\">None</span>, <span style=\"color: #00af00; text-decoration-color: #00af00\">100</span>)            │         <span style=\"color: #00af00; text-decoration-color: #00af00\">5,100</span> │\n",
       "├─────────────────────────────────┼────────────────────────┼───────────────┤\n",
       "│ dense_10 (<span style=\"color: #0087ff; text-decoration-color: #0087ff\">Dense</span>)                │ (<span style=\"color: #00d7ff; text-decoration-color: #00d7ff\">None</span>, <span style=\"color: #00af00; text-decoration-color: #00af00\">3</span>)              │           <span style=\"color: #00af00; text-decoration-color: #00af00\">303</span> │\n",
       "└─────────────────────────────────┴────────────────────────┴───────────────┘\n",
       "</pre>\n"
      ],
      "text/plain": [
       "┏━━━━━━━━━━━━━━━━━━━━━━━━━━━━━━━━━┳━━━━━━━━━━━━━━━━━━━━━━━━┳━━━━━━━━━━━━━━━┓\n",
       "┃\u001b[1m \u001b[0m\u001b[1mLayer (type)                   \u001b[0m\u001b[1m \u001b[0m┃\u001b[1m \u001b[0m\u001b[1mOutput Shape          \u001b[0m\u001b[1m \u001b[0m┃\u001b[1m \u001b[0m\u001b[1m      Param #\u001b[0m\u001b[1m \u001b[0m┃\n",
       "┡━━━━━━━━━━━━━━━━━━━━━━━━━━━━━━━━━╇━━━━━━━━━━━━━━━━━━━━━━━━╇━━━━━━━━━━━━━━━┩\n",
       "│ dense_8 (\u001b[38;5;33mDense\u001b[0m)                 │ (\u001b[38;5;45mNone\u001b[0m, \u001b[38;5;34m50\u001b[0m)             │           \u001b[38;5;34m250\u001b[0m │\n",
       "├─────────────────────────────────┼────────────────────────┼───────────────┤\n",
       "│ dense_9 (\u001b[38;5;33mDense\u001b[0m)                 │ (\u001b[38;5;45mNone\u001b[0m, \u001b[38;5;34m100\u001b[0m)            │         \u001b[38;5;34m5,100\u001b[0m │\n",
       "├─────────────────────────────────┼────────────────────────┼───────────────┤\n",
       "│ dense_10 (\u001b[38;5;33mDense\u001b[0m)                │ (\u001b[38;5;45mNone\u001b[0m, \u001b[38;5;34m3\u001b[0m)              │           \u001b[38;5;34m303\u001b[0m │\n",
       "└─────────────────────────────────┴────────────────────────┴───────────────┘\n"
      ]
     },
     "metadata": {},
     "output_type": "display_data"
    },
    {
     "data": {
      "text/html": [
       "<pre style=\"white-space:pre;overflow-x:auto;line-height:normal;font-family:Menlo,'DejaVu Sans Mono',consolas,'Courier New',monospace\"><span style=\"font-weight: bold\"> Total params: </span><span style=\"color: #00af00; text-decoration-color: #00af00\">5,653</span> (22.08 KB)\n",
       "</pre>\n"
      ],
      "text/plain": [
       "\u001b[1m Total params: \u001b[0m\u001b[38;5;34m5,653\u001b[0m (22.08 KB)\n"
      ]
     },
     "metadata": {},
     "output_type": "display_data"
    },
    {
     "data": {
      "text/html": [
       "<pre style=\"white-space:pre;overflow-x:auto;line-height:normal;font-family:Menlo,'DejaVu Sans Mono',consolas,'Courier New',monospace\"><span style=\"font-weight: bold\"> Trainable params: </span><span style=\"color: #00af00; text-decoration-color: #00af00\">5,653</span> (22.08 KB)\n",
       "</pre>\n"
      ],
      "text/plain": [
       "\u001b[1m Trainable params: \u001b[0m\u001b[38;5;34m5,653\u001b[0m (22.08 KB)\n"
      ]
     },
     "metadata": {},
     "output_type": "display_data"
    },
    {
     "data": {
      "text/html": [
       "<pre style=\"white-space:pre;overflow-x:auto;line-height:normal;font-family:Menlo,'DejaVu Sans Mono',consolas,'Courier New',monospace\"><span style=\"font-weight: bold\"> Non-trainable params: </span><span style=\"color: #00af00; text-decoration-color: #00af00\">0</span> (0.00 B)\n",
       "</pre>\n"
      ],
      "text/plain": [
       "\u001b[1m Non-trainable params: \u001b[0m\u001b[38;5;34m0\u001b[0m (0.00 B)\n"
      ]
     },
     "metadata": {},
     "output_type": "display_data"
    }
   ],
   "source": [
    "model.summary()"
   ]
  },
  {
   "cell_type": "code",
   "execution_count": 30,
   "id": "d22d7f44-c467-4299-a5a7-9af5130f8626",
   "metadata": {},
   "outputs": [],
   "source": [
    "model.compile(loss='categorical_crossentropy',\n",
    "              optimizer=tf.optimizers.Adam(learning_rate=0.01),\n",
    "              metrics=['accuracy'])"
   ]
  },
  {
   "cell_type": "code",
   "execution_count": 31,
   "id": "e6580d64-ce2b-4188-9648-4d22aaa4340c",
   "metadata": {},
   "outputs": [
    {
     "name": "stdout",
     "output_type": "stream",
     "text": [
      "Epoch 1/20\n",
      "5/5 - 1s - 245ms/step - accuracy: 0.6458 - loss: 0.8115 - val_accuracy: 0.7500 - val_loss: 0.4681\n",
      "Epoch 2/20\n",
      "5/5 - 0s - 9ms/step - accuracy: 0.8333 - loss: 0.3283 - val_accuracy: 0.7917 - val_loss: 0.3757\n",
      "Epoch 3/20\n",
      "5/5 - 0s - 9ms/step - accuracy: 0.9167 - loss: 0.2191 - val_accuracy: 0.7917 - val_loss: 0.3273\n",
      "Epoch 4/20\n",
      "5/5 - 0s - 9ms/step - accuracy: 0.9479 - loss: 0.1409 - val_accuracy: 0.7917 - val_loss: 0.3887\n",
      "Epoch 5/20\n",
      "5/5 - 0s - 9ms/step - accuracy: 0.9479 - loss: 0.1087 - val_accuracy: 0.8333 - val_loss: 0.3307\n",
      "Epoch 6/20\n",
      "5/5 - 0s - 9ms/step - accuracy: 0.9688 - loss: 0.0816 - val_accuracy: 0.8750 - val_loss: 0.3518\n",
      "Epoch 7/20\n",
      "5/5 - 0s - 9ms/step - accuracy: 0.9792 - loss: 0.0600 - val_accuracy: 0.8750 - val_loss: 0.3481\n",
      "Epoch 8/20\n",
      "5/5 - 0s - 9ms/step - accuracy: 0.9896 - loss: 0.0448 - val_accuracy: 0.9167 - val_loss: 0.2661\n",
      "Epoch 9/20\n",
      "5/5 - 0s - 9ms/step - accuracy: 0.9896 - loss: 0.0524 - val_accuracy: 0.9167 - val_loss: 0.3190\n",
      "Epoch 10/20\n",
      "5/5 - 0s - 9ms/step - accuracy: 0.9583 - loss: 0.0557 - val_accuracy: 0.9167 - val_loss: 0.1839\n",
      "Epoch 11/20\n",
      "5/5 - 0s - 9ms/step - accuracy: 0.9583 - loss: 0.0718 - val_accuracy: 0.9167 - val_loss: 0.4269\n",
      "Epoch 12/20\n",
      "5/5 - 0s - 9ms/step - accuracy: 0.9479 - loss: 0.0832 - val_accuracy: 0.9167 - val_loss: 0.1895\n",
      "Epoch 13/20\n",
      "5/5 - 0s - 9ms/step - accuracy: 0.9688 - loss: 0.0547 - val_accuracy: 0.9167 - val_loss: 0.3161\n",
      "Epoch 14/20\n",
      "5/5 - 0s - 9ms/step - accuracy: 0.9792 - loss: 0.0386 - val_accuracy: 0.9167 - val_loss: 0.3121\n",
      "Epoch 15/20\n",
      "5/5 - 0s - 9ms/step - accuracy: 0.9792 - loss: 0.0360 - val_accuracy: 0.9167 - val_loss: 0.1861\n",
      "Epoch 16/20\n",
      "5/5 - 0s - 9ms/step - accuracy: 0.9792 - loss: 0.0275 - val_accuracy: 0.9167 - val_loss: 0.2593\n",
      "Epoch 17/20\n",
      "5/5 - 0s - 11ms/step - accuracy: 0.9792 - loss: 0.0343 - val_accuracy: 0.9167 - val_loss: 0.2972\n",
      "Epoch 18/20\n",
      "5/5 - 0s - 8ms/step - accuracy: 1.0000 - loss: 0.0203 - val_accuracy: 0.9167 - val_loss: 0.2071\n",
      "Epoch 19/20\n",
      "5/5 - 0s - 9ms/step - accuracy: 1.0000 - loss: 0.0191 - val_accuracy: 0.9167 - val_loss: 0.2421\n",
      "Epoch 20/20\n",
      "5/5 - 0s - 9ms/step - accuracy: 0.9896 - loss: 0.0216 - val_accuracy: 0.9167 - val_loss: 0.2568\n"
     ]
    }
   ],
   "source": [
    "history = model.fit(X_train, y_train,\n",
    "                    batch_size=batch_size,\n",
    "                    epochs=num_epochs,\n",
    "                    validation_data=(X_val, y_val),\n",
    "                    verbose=2)"
   ]
  },
  {
   "cell_type": "code",
   "execution_count": 32,
   "id": "7d98ce75-da93-408e-992d-f0ccf6b240ba",
   "metadata": {},
   "outputs": [
    {
     "name": "stdout",
     "output_type": "stream",
     "text": [
      "Train loss: 0.014715868979692459\n",
      "Train accuracy: 1.0\n",
      "Test loss: 0.0072725387290120125\n",
      "Test accuracy: 1.0\n"
     ]
    }
   ],
   "source": [
    "train_score = model.evaluate(X_train, y_train, verbose=0)\n",
    "test_score = model.evaluate(X_test, y_test, verbose = 0)\n",
    "print('Train loss:', train_score[0])\n",
    "print('Train accuracy:', train_score[1])\n",
    "print('Test loss:', test_score[0])\n",
    "print('Test accuracy:', test_score[1])"
   ]
  },
  {
   "cell_type": "markdown",
   "id": "272cf192-33ef-401f-951d-c9c64cdc0318",
   "metadata": {},
   "source": [
    "[Problem 5] Learning House Prices with Keras"
   ]
  },
  {
   "cell_type": "code",
   "execution_count": 33,
   "id": "2f0253da-bc9e-407d-a5e0-8f920a1ee916",
   "metadata": {},
   "outputs": [],
   "source": [
    "df = pd.read_csv(\"import/train.csv\")\n",
    "#Condition extraction from data frame\n",
    "y = df[\"SalePrice\"]\n",
    "X = df.loc[:, [\"GrLivArea\", \"YearBuilt\"]]\n",
    "y = np.log(np.array(y).reshape(-1, 1))\n",
    "X = np.array(X).astype(np.float32)\n",
    "# Split into train and test\n",
    "X_train, X_test, y_train, y_test = train_test_split(X, y, test_size=0.2, random_state=0)\n",
    "# Split into train and test\n",
    "X_train, X_val, y_train, y_val = train_test_split(X_train, y_train, test_size=0.2, random_state=0)"
   ]
  },
  {
   "cell_type": "code",
   "execution_count": 34,
   "id": "d1b7a552-1ca7-4ea4-b4b4-46201808ab81",
   "metadata": {},
   "outputs": [],
   "source": [
    "# Hyperparameters\n",
    "learning_rate = 0.01\n",
    "batch_size = 20\n",
    "num_epochs = 20\n",
    "n_hidden1 = 50\n",
    "n_hidden2 = 100\n",
    "n_input = X_train.shape[1]\n",
    "n_samples = X_train.shape[0]\n",
    "n_class = 1"
   ]
  },
  {
   "cell_type": "code",
   "execution_count": 37,
   "id": "b02501f6-d5dd-447d-830c-090ca215cbee",
   "metadata": {},
   "outputs": [],
   "source": [
    "model = tf.keras.Sequential()\n",
    "model.add(tf.keras.Input(shape=(n_input,)))  # Specify input shape as a tuple\n",
    "model.add(tf.keras.layers.Dense(n_hidden1, activation='relu'))\n",
    "model.add(tf.keras.layers.Dense(n_hidden2, activation='relu'))\n",
    "model.add(tf.keras.layers.Dense(n_classes, activation='linear'))"
   ]
  },
  {
   "cell_type": "code",
   "execution_count": 38,
   "id": "73486539-5476-4afc-9c8d-3d80d86124b6",
   "metadata": {},
   "outputs": [
    {
     "data": {
      "text/html": [
       "<pre style=\"white-space:pre;overflow-x:auto;line-height:normal;font-family:Menlo,'DejaVu Sans Mono',consolas,'Courier New',monospace\"><span style=\"font-weight: bold\">Model: \"sequential_6\"</span>\n",
       "</pre>\n"
      ],
      "text/plain": [
       "\u001b[1mModel: \"sequential_6\"\u001b[0m\n"
      ]
     },
     "metadata": {},
     "output_type": "display_data"
    },
    {
     "data": {
      "text/html": [
       "<pre style=\"white-space:pre;overflow-x:auto;line-height:normal;font-family:Menlo,'DejaVu Sans Mono',consolas,'Courier New',monospace\">┏━━━━━━━━━━━━━━━━━━━━━━━━━━━━━━━━━┳━━━━━━━━━━━━━━━━━━━━━━━━┳━━━━━━━━━━━━━━━┓\n",
       "┃<span style=\"font-weight: bold\"> Layer (type)                    </span>┃<span style=\"font-weight: bold\"> Output Shape           </span>┃<span style=\"font-weight: bold\">       Param # </span>┃\n",
       "┡━━━━━━━━━━━━━━━━━━━━━━━━━━━━━━━━━╇━━━━━━━━━━━━━━━━━━━━━━━━╇━━━━━━━━━━━━━━━┩\n",
       "│ dense_13 (<span style=\"color: #0087ff; text-decoration-color: #0087ff\">Dense</span>)                │ (<span style=\"color: #00d7ff; text-decoration-color: #00d7ff\">None</span>, <span style=\"color: #00af00; text-decoration-color: #00af00\">50</span>)             │           <span style=\"color: #00af00; text-decoration-color: #00af00\">150</span> │\n",
       "├─────────────────────────────────┼────────────────────────┼───────────────┤\n",
       "│ dense_14 (<span style=\"color: #0087ff; text-decoration-color: #0087ff\">Dense</span>)                │ (<span style=\"color: #00d7ff; text-decoration-color: #00d7ff\">None</span>, <span style=\"color: #00af00; text-decoration-color: #00af00\">100</span>)            │         <span style=\"color: #00af00; text-decoration-color: #00af00\">5,100</span> │\n",
       "├─────────────────────────────────┼────────────────────────┼───────────────┤\n",
       "│ dense_15 (<span style=\"color: #0087ff; text-decoration-color: #0087ff\">Dense</span>)                │ (<span style=\"color: #00d7ff; text-decoration-color: #00d7ff\">None</span>, <span style=\"color: #00af00; text-decoration-color: #00af00\">3</span>)              │           <span style=\"color: #00af00; text-decoration-color: #00af00\">303</span> │\n",
       "└─────────────────────────────────┴────────────────────────┴───────────────┘\n",
       "</pre>\n"
      ],
      "text/plain": [
       "┏━━━━━━━━━━━━━━━━━━━━━━━━━━━━━━━━━┳━━━━━━━━━━━━━━━━━━━━━━━━┳━━━━━━━━━━━━━━━┓\n",
       "┃\u001b[1m \u001b[0m\u001b[1mLayer (type)                   \u001b[0m\u001b[1m \u001b[0m┃\u001b[1m \u001b[0m\u001b[1mOutput Shape          \u001b[0m\u001b[1m \u001b[0m┃\u001b[1m \u001b[0m\u001b[1m      Param #\u001b[0m\u001b[1m \u001b[0m┃\n",
       "┡━━━━━━━━━━━━━━━━━━━━━━━━━━━━━━━━━╇━━━━━━━━━━━━━━━━━━━━━━━━╇━━━━━━━━━━━━━━━┩\n",
       "│ dense_13 (\u001b[38;5;33mDense\u001b[0m)                │ (\u001b[38;5;45mNone\u001b[0m, \u001b[38;5;34m50\u001b[0m)             │           \u001b[38;5;34m150\u001b[0m │\n",
       "├─────────────────────────────────┼────────────────────────┼───────────────┤\n",
       "│ dense_14 (\u001b[38;5;33mDense\u001b[0m)                │ (\u001b[38;5;45mNone\u001b[0m, \u001b[38;5;34m100\u001b[0m)            │         \u001b[38;5;34m5,100\u001b[0m │\n",
       "├─────────────────────────────────┼────────────────────────┼───────────────┤\n",
       "│ dense_15 (\u001b[38;5;33mDense\u001b[0m)                │ (\u001b[38;5;45mNone\u001b[0m, \u001b[38;5;34m3\u001b[0m)              │           \u001b[38;5;34m303\u001b[0m │\n",
       "└─────────────────────────────────┴────────────────────────┴───────────────┘\n"
      ]
     },
     "metadata": {},
     "output_type": "display_data"
    },
    {
     "data": {
      "text/html": [
       "<pre style=\"white-space:pre;overflow-x:auto;line-height:normal;font-family:Menlo,'DejaVu Sans Mono',consolas,'Courier New',monospace\"><span style=\"font-weight: bold\"> Total params: </span><span style=\"color: #00af00; text-decoration-color: #00af00\">5,553</span> (21.69 KB)\n",
       "</pre>\n"
      ],
      "text/plain": [
       "\u001b[1m Total params: \u001b[0m\u001b[38;5;34m5,553\u001b[0m (21.69 KB)\n"
      ]
     },
     "metadata": {},
     "output_type": "display_data"
    },
    {
     "data": {
      "text/html": [
       "<pre style=\"white-space:pre;overflow-x:auto;line-height:normal;font-family:Menlo,'DejaVu Sans Mono',consolas,'Courier New',monospace\"><span style=\"font-weight: bold\"> Trainable params: </span><span style=\"color: #00af00; text-decoration-color: #00af00\">5,553</span> (21.69 KB)\n",
       "</pre>\n"
      ],
      "text/plain": [
       "\u001b[1m Trainable params: \u001b[0m\u001b[38;5;34m5,553\u001b[0m (21.69 KB)\n"
      ]
     },
     "metadata": {},
     "output_type": "display_data"
    },
    {
     "data": {
      "text/html": [
       "<pre style=\"white-space:pre;overflow-x:auto;line-height:normal;font-family:Menlo,'DejaVu Sans Mono',consolas,'Courier New',monospace\"><span style=\"font-weight: bold\"> Non-trainable params: </span><span style=\"color: #00af00; text-decoration-color: #00af00\">0</span> (0.00 B)\n",
       "</pre>\n"
      ],
      "text/plain": [
       "\u001b[1m Non-trainable params: \u001b[0m\u001b[38;5;34m0\u001b[0m (0.00 B)\n"
      ]
     },
     "metadata": {},
     "output_type": "display_data"
    }
   ],
   "source": [
    "model.summary()"
   ]
  },
  {
   "cell_type": "code",
   "execution_count": 39,
   "id": "2d5eeb0b-f0b2-43f5-b860-8b351136db27",
   "metadata": {},
   "outputs": [],
   "source": [
    "model.compile(loss='mean_squared_error',\n",
    "              optimizer=tf.optimizers.Adagrad(learning_rate=0.005),\n",
    "              metrics=['mse'])"
   ]
  },
  {
   "cell_type": "code",
   "execution_count": 40,
   "id": "5ee3c203-a25b-4f8f-bcb7-12e844d6b510",
   "metadata": {},
   "outputs": [
    {
     "name": "stdout",
     "output_type": "stream",
     "text": [
      "Epoch 1/20\n",
      "47/47 - 1s - 17ms/step - loss: 1411.4581 - mse: 1411.4580 - val_loss: 10.2464 - val_mse: 10.2464\n",
      "Epoch 2/20\n",
      "47/47 - 0s - 2ms/step - loss: 9.7861 - mse: 9.7861 - val_loss: 4.2021 - val_mse: 4.2021\n",
      "Epoch 3/20\n",
      "47/47 - 0s - 2ms/step - loss: 5.0567 - mse: 5.0567 - val_loss: 2.6232 - val_mse: 2.6232\n",
      "Epoch 4/20\n",
      "47/47 - 0s - 2ms/step - loss: 3.4924 - mse: 3.4924 - val_loss: 3.0861 - val_mse: 3.0861\n",
      "Epoch 5/20\n",
      "47/47 - 0s - 2ms/step - loss: 2.9032 - mse: 2.9032 - val_loss: 7.9142 - val_mse: 7.9142\n",
      "Epoch 6/20\n",
      "47/47 - 0s - 2ms/step - loss: 2.5595 - mse: 2.5595 - val_loss: 2.0097 - val_mse: 2.0097\n",
      "Epoch 7/20\n",
      "47/47 - 0s - 2ms/step - loss: 2.2264 - mse: 2.2264 - val_loss: 1.6080 - val_mse: 1.6080\n",
      "Epoch 8/20\n",
      "47/47 - 0s - 2ms/step - loss: 1.8916 - mse: 1.8916 - val_loss: 1.3105 - val_mse: 1.3105\n",
      "Epoch 9/20\n",
      "47/47 - 0s - 2ms/step - loss: 1.8091 - mse: 1.8091 - val_loss: 1.4251 - val_mse: 1.4251\n",
      "Epoch 10/20\n",
      "47/47 - 0s - 2ms/step - loss: 1.6538 - mse: 1.6538 - val_loss: 1.4131 - val_mse: 1.4131\n",
      "Epoch 11/20\n",
      "47/47 - 0s - 2ms/step - loss: 1.5037 - mse: 1.5037 - val_loss: 2.3427 - val_mse: 2.3427\n",
      "Epoch 12/20\n",
      "47/47 - 0s - 2ms/step - loss: 1.4705 - mse: 1.4705 - val_loss: 1.0855 - val_mse: 1.0855\n",
      "Epoch 13/20\n",
      "47/47 - 0s - 2ms/step - loss: 1.2947 - mse: 1.2947 - val_loss: 1.0096 - val_mse: 1.0096\n",
      "Epoch 14/20\n",
      "47/47 - 0s - 2ms/step - loss: 1.2719 - mse: 1.2719 - val_loss: 1.6448 - val_mse: 1.6448\n",
      "Epoch 15/20\n",
      "47/47 - 0s - 2ms/step - loss: 1.1436 - mse: 1.1436 - val_loss: 1.3051 - val_mse: 1.3051\n",
      "Epoch 16/20\n",
      "47/47 - 0s - 2ms/step - loss: 1.1485 - mse: 1.1485 - val_loss: 1.0380 - val_mse: 1.0380\n",
      "Epoch 17/20\n",
      "47/47 - 0s - 2ms/step - loss: 1.0709 - mse: 1.0709 - val_loss: 0.8867 - val_mse: 0.8867\n",
      "Epoch 18/20\n",
      "47/47 - 0s - 2ms/step - loss: 1.0548 - mse: 1.0548 - val_loss: 1.1659 - val_mse: 1.1659\n",
      "Epoch 19/20\n",
      "47/47 - 0s - 2ms/step - loss: 0.9924 - mse: 0.9924 - val_loss: 1.8101 - val_mse: 1.8101\n",
      "Epoch 20/20\n",
      "47/47 - 0s - 2ms/step - loss: 1.0019 - mse: 1.0019 - val_loss: 1.0962 - val_mse: 1.0962\n"
     ]
    }
   ],
   "source": [
    "history = model.fit(X_train, y_train,\n",
    "                    batch_size=batch_size,\n",
    "                    epochs=num_epochs,\n",
    "                    validation_data=(X_val, y_val),\n",
    "                    verbose=2)"
   ]
  },
  {
   "cell_type": "code",
   "execution_count": 41,
   "id": "095547d2-fe07-4725-9e90-16a1dc576e29",
   "metadata": {},
   "outputs": [
    {
     "name": "stdout",
     "output_type": "stream",
     "text": [
      "Train loss: 1.1838042736053467\n",
      "Train mse: 1.1838042736053467\n",
      "Test loss: 2.891444444656372\n",
      "Test mse: 2.891444444656372\n"
     ]
    }
   ],
   "source": [
    "train_score = model.evaluate(X_train, y_train, verbose=0)\n",
    "test_score = model.evaluate(X_test, y_test, verbose = 0)\n",
    "print('Train loss:', train_score[0])\n",
    "print('Train mse:', train_score[1])\n",
    "print('Test loss:', test_score[0])\n",
    "print('Test mse:', test_score[1])"
   ]
  },
  {
   "cell_type": "markdown",
   "id": "906ffd9c-9f6f-482e-b08a-451d649b3ed8",
   "metadata": {},
   "source": [
    "[Problem 6] Learning MNIST with Keras"
   ]
  },
  {
   "cell_type": "code",
   "execution_count": 42,
   "id": "9a2f24f2-12ed-404f-a7fe-07fdc51a7331",
   "metadata": {},
   "outputs": [],
   "source": [
    "from keras.datasets import mnist\n",
    "(X_train, y_train), (X_test, y_test) = mnist.load_data()"
   ]
  },
  {
   "cell_type": "code",
   "execution_count": 43,
   "id": "5ee0d664-06ae-420a-8d4f-d535c002a223",
   "metadata": {},
   "outputs": [
    {
     "name": "stdout",
     "output_type": "stream",
     "text": [
      "(60000, 28, 28)\n",
      "(60000,)\n",
      "(10000, 28, 28)\n",
      "(10000,)\n",
      "uint8\n"
     ]
    }
   ],
   "source": [
    "print(X_train.shape) # (60000, 28, 28)\n",
    "print(y_train.shape) # (10000, 28, 28)\n",
    "print(X_test.shape) # (10000, 28, 28)\n",
    "print(y_test.shape)\n",
    "print(X_train[0].dtype) # uint8"
   ]
  },
  {
   "cell_type": "code",
   "execution_count": 44,
   "id": "e512cdf4-c061-4717-a637-863e2cbc6d8c",
   "metadata": {},
   "outputs": [
    {
     "data": {
      "image/png": "[encoded data removed]",
      "text/plain": [
       "<Figure size 640x480 with 1 Axes>"
      ]
     },
     "metadata": {},
     "output_type": "display_data"
    }
   ],
   "source": [
    "index = 0\n",
    "image = X_train[index].reshape(28,28)\n",
    "# X_train[index]: (784,)\n",
    "# image: (28, 28)\n",
    "plt.imshow(image, 'gray')\n",
    "plt.title('label : {}'.format(y_train[index]))\n",
    "plt.show()"
   ]
  },
  {
   "cell_type": "code",
   "execution_count": 45,
   "id": "429e3814-7d69-4067-835c-4dcc5c9b2d2c",
   "metadata": {},
   "outputs": [],
   "source": [
    "import numpy as np\n",
    "from sklearn.model_selection import train_test_split\n",
    "from sklearn.preprocessing import OneHotEncoder\n",
    "from keras.datasets import mnist\n",
    "from sklearn.metrics import accuracy_score"
   ]
  },
  {
   "cell_type": "code",
   "execution_count": 46,
   "id": "fa8d5344-3f30-42ca-bc68-047362fe22f1",
   "metadata": {},
   "outputs": [
    {
     "name": "stdout",
     "output_type": "stream",
     "text": [
      "(48000, 784)\n",
      "(10000, 784)\n"
     ]
    }
   ],
   "source": [
    "X_train = X_train.reshape(-1, 784)\n",
    "X_test = X_test.reshape(-1, 784)\n",
    "\n",
    "X_train = X_train.astype(np.float32)\n",
    "X_test = X_test.astype(np.float32)\n",
    "X_train = X_train / 255.0\n",
    "X_test = X_test / 255.0\n",
    "\n",
    "enc = OneHotEncoder(handle_unknown='ignore')\n",
    "y_train_one_hot = enc.fit_transform(y_train[:, np.newaxis]).toarray()\n",
    "y_test_one_hot = enc.transform(y_test[:, np.newaxis]).toarray()\n",
    "\n",
    "X_train, X_val, y_train, y_val = train_test_split(X_train, y_train_one_hot, test_size=0.2)\n",
    "\n",
    "print(X_train.shape)\n",
    "print(X_test.shape)"
   ]
  },
  {
   "cell_type": "code",
   "execution_count": 47,
   "id": "5bf5cf23-a8db-4f1d-a058-f10018c08e5e",
   "metadata": {},
   "outputs": [],
   "source": [
    "# Hyperparameters\n",
    "learning_rate = 0.01\n",
    "batch_size = 20\n",
    "num_epochs = 10\n",
    "n_hidden1 = 50\n",
    "n_hidden2 = 100\n",
    "n_input = X_train.shape[1]\n",
    "n_samples = X_train.shape[0]\n",
    "n_classes = 10"
   ]
  },
  {
   "cell_type": "markdown",
   "id": "767ad2d1-208c-4edc-85e0-b477060b960d",
   "metadata": {},
   "source": [
    "<b>Model structure</b>"
   ]
  },
  {
   "cell_type": "code",
   "execution_count": 63,
   "id": "6dd20cb2-20c0-4c7b-98cd-dc71fc4a0eb2",
   "metadata": {},
   "outputs": [],
   "source": [
    "model = tf.keras.Sequential()\n",
    "model.add(tf.keras.Input(shape=(n_input,)))  \n",
    "model.add(tf.keras.layers.Dense(n_hidden1, activation='relu'))\n",
    "model.add(tf.keras.layers.Dense(n_hidden2, activation='relu'))\n",
    "model.add(tf.keras.layers.Dense(n_classes, activation='softmax'))"
   ]
  },
  {
   "cell_type": "code",
   "execution_count": 64,
   "id": "79b82727-c388-4451-b23b-0d0508341ffe",
   "metadata": {},
   "outputs": [
    {
     "data": {
      "text/html": [
       "<pre style=\"white-space:pre;overflow-x:auto;line-height:normal;font-family:Menlo,'DejaVu Sans Mono',consolas,'Courier New',monospace\"><span style=\"font-weight: bold\">Model: \"sequential_11\"</span>\n",
       "</pre>\n"
      ],
      "text/plain": [
       "\u001b[1mModel: \"sequential_11\"\u001b[0m\n"
      ]
     },
     "metadata": {},
     "output_type": "display_data"
    },
    {
     "data": {
      "text/html": [
       "<pre style=\"white-space:pre;overflow-x:auto;line-height:normal;font-family:Menlo,'DejaVu Sans Mono',consolas,'Courier New',monospace\">┏━━━━━━━━━━━━━━━━━━━━━━━━━━━━━━━━━┳━━━━━━━━━━━━━━━━━━━━━━━━┳━━━━━━━━━━━━━━━┓\n",
       "┃<span style=\"font-weight: bold\"> Layer (type)                    </span>┃<span style=\"font-weight: bold\"> Output Shape           </span>┃<span style=\"font-weight: bold\">       Param # </span>┃\n",
       "┡━━━━━━━━━━━━━━━━━━━━━━━━━━━━━━━━━╇━━━━━━━━━━━━━━━━━━━━━━━━╇━━━━━━━━━━━━━━━┩\n",
       "│ dense_26 (<span style=\"color: #0087ff; text-decoration-color: #0087ff\">Dense</span>)                │ (<span style=\"color: #00d7ff; text-decoration-color: #00d7ff\">None</span>, <span style=\"color: #00af00; text-decoration-color: #00af00\">50</span>)             │        <span style=\"color: #00af00; text-decoration-color: #00af00\">39,250</span> │\n",
       "├─────────────────────────────────┼────────────────────────┼───────────────┤\n",
       "│ dense_27 (<span style=\"color: #0087ff; text-decoration-color: #0087ff\">Dense</span>)                │ (<span style=\"color: #00d7ff; text-decoration-color: #00d7ff\">None</span>, <span style=\"color: #00af00; text-decoration-color: #00af00\">100</span>)            │         <span style=\"color: #00af00; text-decoration-color: #00af00\">5,100</span> │\n",
       "├─────────────────────────────────┼────────────────────────┼───────────────┤\n",
       "│ dense_28 (<span style=\"color: #0087ff; text-decoration-color: #0087ff\">Dense</span>)                │ (<span style=\"color: #00d7ff; text-decoration-color: #00d7ff\">None</span>, <span style=\"color: #00af00; text-decoration-color: #00af00\">10</span>)             │         <span style=\"color: #00af00; text-decoration-color: #00af00\">1,010</span> │\n",
       "└─────────────────────────────────┴────────────────────────┴───────────────┘\n",
       "</pre>\n"
      ],
      "text/plain": [
       "┏━━━━━━━━━━━━━━━━━━━━━━━━━━━━━━━━━┳━━━━━━━━━━━━━━━━━━━━━━━━┳━━━━━━━━━━━━━━━┓\n",
       "┃\u001b[1m \u001b[0m\u001b[1mLayer (type)                   \u001b[0m\u001b[1m \u001b[0m┃\u001b[1m \u001b[0m\u001b[1mOutput Shape          \u001b[0m\u001b[1m \u001b[0m┃\u001b[1m \u001b[0m\u001b[1m      Param #\u001b[0m\u001b[1m \u001b[0m┃\n",
       "┡━━━━━━━━━━━━━━━━━━━━━━━━━━━━━━━━━╇━━━━━━━━━━━━━━━━━━━━━━━━╇━━━━━━━━━━━━━━━┩\n",
       "│ dense_26 (\u001b[38;5;33mDense\u001b[0m)                │ (\u001b[38;5;45mNone\u001b[0m, \u001b[38;5;34m50\u001b[0m)             │        \u001b[38;5;34m39,250\u001b[0m │\n",
       "├─────────────────────────────────┼────────────────────────┼───────────────┤\n",
       "│ dense_27 (\u001b[38;5;33mDense\u001b[0m)                │ (\u001b[38;5;45mNone\u001b[0m, \u001b[38;5;34m100\u001b[0m)            │         \u001b[38;5;34m5,100\u001b[0m │\n",
       "├─────────────────────────────────┼────────────────────────┼───────────────┤\n",
       "│ dense_28 (\u001b[38;5;33mDense\u001b[0m)                │ (\u001b[38;5;45mNone\u001b[0m, \u001b[38;5;34m10\u001b[0m)             │         \u001b[38;5;34m1,010\u001b[0m │\n",
       "└─────────────────────────────────┴────────────────────────┴───────────────┘\n"
      ]
     },
     "metadata": {},
     "output_type": "display_data"
    },
    {
     "data": {
      "text/html": [
       "<pre style=\"white-space:pre;overflow-x:auto;line-height:normal;font-family:Menlo,'DejaVu Sans Mono',consolas,'Courier New',monospace\"><span style=\"font-weight: bold\"> Total params: </span><span style=\"color: #00af00; text-decoration-color: #00af00\">45,360</span> (177.19 KB)\n",
       "</pre>\n"
      ],
      "text/plain": [
       "\u001b[1m Total params: \u001b[0m\u001b[38;5;34m45,360\u001b[0m (177.19 KB)\n"
      ]
     },
     "metadata": {},
     "output_type": "display_data"
    },
    {
     "data": {
      "text/html": [
       "<pre style=\"white-space:pre;overflow-x:auto;line-height:normal;font-family:Menlo,'DejaVu Sans Mono',consolas,'Courier New',monospace\"><span style=\"font-weight: bold\"> Trainable params: </span><span style=\"color: #00af00; text-decoration-color: #00af00\">45,360</span> (177.19 KB)\n",
       "</pre>\n"
      ],
      "text/plain": [
       "\u001b[1m Trainable params: \u001b[0m\u001b[38;5;34m45,360\u001b[0m (177.19 KB)\n"
      ]
     },
     "metadata": {},
     "output_type": "display_data"
    },
    {
     "data": {
      "text/html": [
       "<pre style=\"white-space:pre;overflow-x:auto;line-height:normal;font-family:Menlo,'DejaVu Sans Mono',consolas,'Courier New',monospace\"><span style=\"font-weight: bold\"> Non-trainable params: </span><span style=\"color: #00af00; text-decoration-color: #00af00\">0</span> (0.00 B)\n",
       "</pre>\n"
      ],
      "text/plain": [
       "\u001b[1m Non-trainable params: \u001b[0m\u001b[38;5;34m0\u001b[0m (0.00 B)\n"
      ]
     },
     "metadata": {},
     "output_type": "display_data"
    }
   ],
   "source": [
    "model.summary()"
   ]
  },
  {
   "cell_type": "code",
   "execution_count": 67,
   "id": "b1ed90f7-cb16-4158-a7b6-5c7b7224ddda",
   "metadata": {},
   "outputs": [],
   "source": [
    "model.compile(loss='categorical_crossentropy',\n",
    "              optimizer=tf.optimizers.Adagrad(learning_rate=0.005),\n",
    "              metrics=['accuracy'])"
   ]
  },
  {
   "cell_type": "code",
   "execution_count": 68,
   "id": "70f097ab-1c83-4358-adf5-e2ab2b442fd6",
   "metadata": {},
   "outputs": [
    {
     "name": "stdout",
     "output_type": "stream",
     "text": [
      "Epoch 1/10\n",
      "\u001b[1m2400/2400\u001b[0m \u001b[32m━━━━━━━━━━━━━━━━━━━━\u001b[0m\u001b[37m\u001b[0m \u001b[1m3s\u001b[0m 1ms/step - accuracy: 0.7209 - loss: 0.9921 - val_accuracy: 0.9042 - val_loss: 0.3504\n",
      "Epoch 2/10\n",
      "\u001b[1m2400/2400\u001b[0m \u001b[32m━━━━━━━━━━━━━━━━━━━━\u001b[0m\u001b[37m\u001b[0m \u001b[1m3s\u001b[0m 1ms/step - accuracy: 0.9108 - loss: 0.3168 - val_accuracy: 0.9163 - val_loss: 0.2974\n",
      "Epoch 3/10\n",
      "\u001b[1m2400/2400\u001b[0m \u001b[32m━━━━━━━━━━━━━━━━━━━━\u001b[0m\u001b[37m\u001b[0m \u001b[1m3s\u001b[0m 1ms/step - accuracy: 0.9245 - loss: 0.2658 - val_accuracy: 0.9259 - val_loss: 0.2674\n",
      "Epoch 4/10\n",
      "\u001b[1m2400/2400\u001b[0m \u001b[32m━━━━━━━━━━━━━━━━━━━━\u001b[0m\u001b[37m\u001b[0m \u001b[1m3s\u001b[0m 1ms/step - accuracy: 0.9304 - loss: 0.2432 - val_accuracy: 0.9303 - val_loss: 0.2487\n",
      "Epoch 5/10\n",
      "\u001b[1m2400/2400\u001b[0m \u001b[32m━━━━━━━━━━━━━━━━━━━━\u001b[0m\u001b[37m\u001b[0m \u001b[1m2s\u001b[0m 1ms/step - accuracy: 0.9342 - loss: 0.2268 - val_accuracy: 0.9345 - val_loss: 0.2330\n",
      "Epoch 6/10\n",
      "\u001b[1m2400/2400\u001b[0m \u001b[32m━━━━━━━━━━━━━━━━━━━━\u001b[0m\u001b[37m\u001b[0m \u001b[1m2s\u001b[0m 1ms/step - accuracy: 0.9388 - loss: 0.2087 - val_accuracy: 0.9378 - val_loss: 0.2215\n",
      "Epoch 7/10\n",
      "\u001b[1m2400/2400\u001b[0m \u001b[32m━━━━━━━━━━━━━━━━━━━━\u001b[0m\u001b[37m\u001b[0m \u001b[1m2s\u001b[0m 1ms/step - accuracy: 0.9448 - loss: 0.1936 - val_accuracy: 0.9416 - val_loss: 0.2121\n",
      "Epoch 8/10\n",
      "\u001b[1m2400/2400\u001b[0m \u001b[32m━━━━━━━━━━━━━━━━━━━━\u001b[0m\u001b[37m\u001b[0m \u001b[1m2s\u001b[0m 1ms/step - accuracy: 0.9462 - loss: 0.1866 - val_accuracy: 0.9445 - val_loss: 0.2034\n",
      "Epoch 9/10\n",
      "\u001b[1m2400/2400\u001b[0m \u001b[32m━━━━━━━━━━━━━━━━━━━━\u001b[0m\u001b[37m\u001b[0m \u001b[1m2s\u001b[0m 1ms/step - accuracy: 0.9501 - loss: 0.1750 - val_accuracy: 0.9462 - val_loss: 0.1954\n",
      "Epoch 10/10\n",
      "\u001b[1m2400/2400\u001b[0m \u001b[32m━━━━━━━━━━━━━━━━━━━━\u001b[0m\u001b[37m\u001b[0m \u001b[1m2s\u001b[0m 1ms/step - accuracy: 0.9504 - loss: 0.1666 - val_accuracy: 0.9473 - val_loss: 0.1894\n"
     ]
    }
   ],
   "source": [
    "history = model.fit(X_train, y_train,\n",
    "                    batch_size=batch_size,\n",
    "                    epochs=num_epochs,\n",
    "                    validation_data=(X_val, y_val),\n",
    "                    verbose=1)"
   ]
  },
  {
   "cell_type": "code",
   "execution_count": 69,
   "id": "ca7cdc94-1176-4849-88ca-c3435a688775",
   "metadata": {},
   "outputs": [
    {
     "name": "stdout",
     "output_type": "stream",
     "text": [
      "Train loss: 0.16344642639160156\n",
      "Train accuracy: 0.953416645526886\n",
      "Test loss: 0.17122916877269745\n",
      "Test accuracy: 0.9516000151634216\n"
     ]
    }
   ],
   "source": [
    "train_score = model.evaluate(X_train, y_train, verbose=0)\n",
    "test_score = model.evaluate(X_test, y_test_one_hot, verbose = 0)\n",
    "print('Train loss:', train_score[0])\n",
    "print('Train accuracy:', train_score[1])\n",
    "print('Test loss:', test_score[0])\n",
    "print('Test accuracy:', test_score[1])"
   ]
  },
  {
   "cell_type": "markdown",
   "id": "90d56ab9-0c23-49ec-885c-96f18b360127",
   "metadata": {},
   "source": [
    "[Problem 7] (Advance assignment) Rewriting to PyTorch"
   ]
  },
  {
   "cell_type": "code",
   "execution_count": 70,
   "id": "a0f5e514-924d-4f6d-a245-f8978bdf759e",
   "metadata": {},
   "outputs": [],
   "source": [
    "df = pd.read_csv(\"import/iris.csv\")\n",
    "\n",
    "#Condition extraction from data frame\n",
    "df = df[(df[\"Species\"] == \"Iris-versicolor\") | (df[\"Species\"] == \"Iris-virginica\")]\n",
    "y = df[\"Species\"]\n",
    "X = df.loc[:, [\"SepalLengthCm\", \"SepalWidthCm\", \"PetalLengthCm\", \"PetalWidthCm\"]]\n",
    "# NumPy\n",
    "X = np.array(X)\n",
    "y = np.array(y)\n",
    "# Convert label to number\n",
    "y[y == \"Iris-versicolor\"] = 0\n",
    "y[y == \"Iris-virginica\"] = 1\n",
    "y = y.astype(np.int64)[:, np.newaxis]\n",
    "# Split into train and test\n",
    "X_train, X_test, y_train, y_test = train_test_split(X, y, test_size=0.2, random_state=0)\n",
    "# Split into train and val\n",
    "X_train, X_val, y_train, y_val = train_test_split(X_train, y_train, test_size=0.2, random_state=0)"
   ]
  },
  {
   "cell_type": "code",
   "execution_count": 71,
   "id": "9adc5b61-03e2-4a59-8294-e8bc58d57a67",
   "metadata": {},
   "outputs": [],
   "source": [
    "# data scaling \n",
    "scaler = StandardScaler()\n",
    "scaler.fit(X_train)\n",
    "X_train = scaler.transform(X_train)\n",
    "X_test = scaler.transform(X_test)\n",
    "X_val = scaler.transform(X_val)"
   ]
  },
  {
   "cell_type": "code",
   "execution_count": 72,
   "id": "83b0b556-c253-453b-bb36-8ea982b3c4ed",
   "metadata": {},
   "outputs": [],
   "source": [
    "# Hyperparameters\n",
    "learning_rate = 0.01\n",
    "batch_size = 20\n",
    "num_epochs = 20\n",
    "n_hidden1 = 50\n",
    "n_hidden2 = 100\n",
    "n_input = X_train.shape[1]\n",
    "n_samples = X_train.shape[0]\n",
    "n_classes = 1"
   ]
  },
  {
   "cell_type": "code",
   "execution_count": 75,
   "id": "a9483896-b357-4d2d-a759-e7dcc596d8e7",
   "metadata": {},
   "outputs": [],
   "source": [
    "import torch\n",
    "import torch.nn as nn"
   ]
  },
  {
   "cell_type": "code",
   "execution_count": 76,
   "id": "0723cf79-880e-4cdf-ba46-3c3e93850dce",
   "metadata": {},
   "outputs": [
    {
     "name": "stdout",
     "output_type": "stream",
     "text": [
      "cpu\n"
     ]
    }
   ],
   "source": [
    "# Device configuration\n",
    "device = torch.device('cuda' if torch.cuda.is_available() else 'cpu')\n",
    "print(device)"
   ]
  },
  {
   "cell_type": "code",
   "execution_count": 77,
   "id": "a819ace5-e87f-4533-8d4a-c8eda3c24eb5",
   "metadata": {},
   "outputs": [],
   "source": [
    "class Loader:\n",
    "\n",
    "    def __init__(self, x, y, shuffle=True, batch_size=16):\n",
    "        \n",
    "        self.X = x\n",
    "        self.y = y.astype(\"float32\")\n",
    "\n",
    "        self.shuffle = shuffle\n",
    "        self.batch_size = batch_size\n",
    "        self.n_conts = self.X.shape[1]\n",
    "        self.len = self.X.shape[0]\n",
    "        n_batches, remainder = divmod(self.len, self.batch_size)\n",
    "\n",
    "        if remainder > 0:\n",
    "            n_batches += 1\n",
    "        self.n_batches = n_batches\n",
    "        self.remainder = remainder  # for debugging\n",
    "\n",
    "        self.idxes = np.array([i for i in range(self.len)])\n",
    "\n",
    "    def __iter__(self):\n",
    "        self.i = 0\n",
    "        if self.shuffle:\n",
    "            ridxes = self.idxes\n",
    "            np.random.shuffle(ridxes)\n",
    "            self.X = self.X[ridxes]\n",
    "            if self.y is not None:\n",
    "                self.y = self.y[ridxes]\n",
    "\n",
    "        return self\n",
    "\n",
    "    def __next__(self):\n",
    "        if self.i >= self.len:\n",
    "            raise StopIteration\n",
    "\n",
    "        X = torch.FloatTensor(self.X[self.i:self.i + self.batch_size, :])\n",
    "    \n",
    "        if self.y is not None:\n",
    "       \n",
    "            y = torch.FloatTensor(self.y[self.i:self.i + self.batch_size])\n",
    "     \n",
    "        else:\n",
    "            y = None\n",
    "\n",
    "\n",
    "        batch = (X, y) \n",
    "        self.i += self.batch_size\n",
    "        return batch\n",
    "\n",
    "    def __len__(self):\n",
    "        return self.n_batches"
   ]
  },
  {
   "cell_type": "code",
   "execution_count": 78,
   "id": "58f777b7-8012-4c44-8278-8ec836dc71cf",
   "metadata": {},
   "outputs": [],
   "source": [
    "# pytorch dataloader \n",
    "train_loader = Loader(X_train, y_train)\n",
    "val_loader = Loader(X_val, y_val)\n",
    "test_loader = Loader(X_test, y_test)"
   ]
  },
  {
   "cell_type": "code",
   "execution_count": 79,
   "id": "b41c9a73-f83a-4e42-9da8-d97ba4f1c6b7",
   "metadata": {},
   "outputs": [],
   "source": [
    "# Fully connected neural network with one hidden layer\n",
    "class NeuralNet(nn.Module):\n",
    "    def __init__(self, input_size, hidden_size1, hidden_size2, num_classes):\n",
    "        super(NeuralNet, self).__init__()\n",
    "        self.fc1 = nn.Linear(input_size, hidden_size1) \n",
    "        self.relu1 = nn.ReLU()\n",
    "        self.fc2 = nn.Linear(hidden_size1, hidden_size2)  \n",
    "        self.relu2 = nn.ReLU()\n",
    "        self.out = nn.Linear(hidden_size2, num_classes)  \n",
    "    \n",
    "    def forward(self, x):\n",
    "        out = self.fc1(x)\n",
    "        out = self.relu1(out)\n",
    "        out = self.fc2(out)\n",
    "        out = self.relu2(out)\n",
    "        out = self.out(out)\n",
    "        return out"
   ]
  },
  {
   "cell_type": "code",
   "execution_count": 80,
   "id": "7db48181-763d-4dd2-8f2d-da81affd79d8",
   "metadata": {},
   "outputs": [],
   "source": [
    "model = NeuralNet(input_size=n_input,\n",
    "                  hidden_size1=n_hidden1,\n",
    "                  hidden_size2=n_hidden2,\n",
    "                  num_classes=n_classes).to(device)"
   ]
  },
  {
   "cell_type": "code",
   "execution_count": 81,
   "id": "c076ff99-774a-457e-bd6e-a369aee9d6da",
   "metadata": {},
   "outputs": [
    {
     "name": "stdout",
     "output_type": "stream",
     "text": [
      "Epoch [1/20], Step [2/4], Loss: 0.5357\n",
      "Epoch [1/20], Step [4/4], Loss: 0.4731\n",
      "Epoch [2/20], Step [2/4], Loss: 0.3265\n",
      "Epoch [2/20], Step [4/4], Loss: 0.1697\n",
      "Epoch [3/20], Step [2/4], Loss: 0.1220\n",
      "Epoch [3/20], Step [4/4], Loss: 0.0639\n",
      "Epoch [4/20], Step [2/4], Loss: 0.0724\n",
      "Epoch [4/20], Step [4/4], Loss: 0.0658\n",
      "Epoch [5/20], Step [2/4], Loss: 0.0700\n",
      "Epoch [5/20], Step [4/4], Loss: 0.0630\n",
      "Epoch [6/20], Step [2/4], Loss: 0.0124\n",
      "Epoch [6/20], Step [4/4], Loss: 0.0057\n",
      "Epoch [7/20], Step [2/4], Loss: 0.0234\n",
      "Epoch [7/20], Step [4/4], Loss: 0.0041\n",
      "Epoch [8/20], Step [2/4], Loss: 0.0104\n",
      "Epoch [8/20], Step [4/4], Loss: 0.0011\n",
      "Epoch [9/20], Step [2/4], Loss: 0.0055\n",
      "Epoch [9/20], Step [4/4], Loss: 0.0064\n",
      "Epoch [10/20], Step [2/4], Loss: 0.0023\n",
      "Epoch [10/20], Step [4/4], Loss: 0.0000\n",
      "Epoch [11/20], Step [2/4], Loss: 0.0000\n",
      "Epoch [11/20], Step [4/4], Loss: 0.0001\n",
      "Epoch [12/20], Step [2/4], Loss: 0.0002\n",
      "Epoch [12/20], Step [4/4], Loss: 0.0027\n",
      "Epoch [13/20], Step [2/4], Loss: 0.0019\n",
      "Epoch [13/20], Step [4/4], Loss: 0.0019\n",
      "Epoch [14/20], Step [2/4], Loss: 0.0001\n",
      "Epoch [14/20], Step [4/4], Loss: 0.0031\n",
      "Epoch [15/20], Step [2/4], Loss: 0.0002\n",
      "Epoch [15/20], Step [4/4], Loss: 0.0007\n",
      "Epoch [16/20], Step [2/4], Loss: 0.0022\n",
      "Epoch [16/20], Step [4/4], Loss: 0.0005\n",
      "Epoch [17/20], Step [2/4], Loss: 0.0004\n",
      "Epoch [17/20], Step [4/4], Loss: 0.0000\n",
      "Epoch [18/20], Step [2/4], Loss: 0.0000\n",
      "Epoch [18/20], Step [4/4], Loss: 0.0001\n",
      "Epoch [19/20], Step [2/4], Loss: 0.0009\n",
      "Epoch [19/20], Step [4/4], Loss: 0.0001\n",
      "Epoch [20/20], Step [2/4], Loss: 0.0000\n",
      "Epoch [20/20], Step [4/4], Loss: 0.0006\n"
     ]
    }
   ],
   "source": [
    "# Loss and optimizer\n",
    "criterion = nn.BCEWithLogitsLoss()\n",
    "optimizer = torch.optim.Adam(model.parameters(), lr=learning_rate)  \n",
    "\n",
    "# Train the model\n",
    "total_step = len(train_loader)\n",
    "for epoch in range(num_epochs):\n",
    "    for i, (x, y) in enumerate(train_loader):  \n",
    "        # Move tensors to the configured device\n",
    "        x = x.to(device)\n",
    "        y = y.to(device)\n",
    "        \n",
    "        # Forward pass\n",
    "        logit = model(x)\n",
    "        loss = criterion(logit, y)\n",
    "        \n",
    "        # Backward and optimize\n",
    "        optimizer.zero_grad()\n",
    "        loss.backward()\n",
    "        optimizer.step()\n",
    "        \n",
    "        if (i+1) % 2 == 0:\n",
    "            print ('Epoch [{}/{}], Step [{}/{}], Loss: {:.4f}' \n",
    "                   .format(epoch+1, num_epochs, i+1, total_step, loss.item()))"
   ]
  },
  {
   "cell_type": "code",
   "execution_count": 82,
   "id": "b06827ef-ca1f-48b9-926e-bdcb6ebf3989",
   "metadata": {},
   "outputs": [],
   "source": [
    "y_true = []\n",
    "preds = []\n",
    "for i, (x, y) in enumerate(val_loader):  \n",
    "    x = x.to(device)\n",
    "    y = y.to(device)\n",
    "\n",
    "    logit = model(x)\n",
    "    y_true.append(y)\n",
    "    preds.append(logit.sigmoid())"
   ]
  },
  {
   "cell_type": "code",
   "execution_count": 83,
   "id": "759bbd23-1f98-4d67-ad51-73b1c1a4958e",
   "metadata": {},
   "outputs": [],
   "source": [
    "preds = torch.cat(preds, axis=0).detach().cpu().numpy()\n",
    "y_true = torch.cat(y_true, axis=0).detach().cpu().numpy()"
   ]
  },
  {
   "cell_type": "code",
   "execution_count": 84,
   "id": "62b84ad5-b5dd-424b-998a-1404b8aa5890",
   "metadata": {},
   "outputs": [
    {
     "data": {
      "text/plain": [
       "1.0"
      ]
     },
     "execution_count": 84,
     "metadata": {},
     "output_type": "execute_result"
    }
   ],
   "source": [
    "from sklearn.metrics import accuracy_score\n",
    "accuracy_score(y_true, np.where(preds>=0.5, 1, 0))"
   ]
  },
  {
   "cell_type": "code",
   "execution_count": 85,
   "id": "d5bf71c9-a3b3-4a48-bfbf-7441a98e45fc",
   "metadata": {},
   "outputs": [
    {
     "data": {
      "text/plain": [
       "0.9"
      ]
     },
     "execution_count": 85,
     "metadata": {},
     "output_type": "execute_result"
    }
   ],
   "source": [
    "y_true = []\n",
    "preds = []\n",
    "for i, (x, y) in enumerate(test_loader):  \n",
    "    x = x.to(device)\n",
    "    y = y.to(device)\n",
    "\n",
    "    logit = model(x)\n",
    "    y_true.append(y)\n",
    "    preds.append(logit.sigmoid())\n",
    "\n",
    "preds = torch.cat(preds, axis=0).detach().cpu().numpy()\n",
    "y_true = torch.cat(y_true, axis=0).detach().cpu().numpy()\n",
    "accuracy_score(y_true, np.where(preds>=0.5, 1, 0))"
   ]
  },
  {
   "cell_type": "markdown",
   "id": "7f84c2df-669c-4265-b97c-30e7591f2399",
   "metadata": {},
   "source": [
    "Multi classification: Iris Dataset on Pytorch"
   ]
  },
  {
   "cell_type": "code",
   "execution_count": 87,
   "id": "21ad3a36-f651-4cd9-82e5-6005045762fd",
   "metadata": {},
   "outputs": [],
   "source": [
    "from sklearn.preprocessing import OneHotEncoder\n",
    "df = pd.read_csv(\"import/iris.csv\")\n",
    "\n",
    "#Condition extraction from data frame\n",
    "y = df[\"Species\"]\n",
    "X = df.loc[:, [\"SepalLengthCm\", \"SepalWidthCm\", \"PetalLengthCm\", \"PetalWidthCm\"]]\n",
    "y = np.array(y)\n",
    "X = np.array(X).astype(np.float32)\n",
    "\n",
    "# Convert label to number\n",
    "y[y == \"Iris-setosa\"] = 0\n",
    "y[y == \"Iris-versicolor\"] = 1\n",
    "y[y == \"Iris-virginica\"] = 2\n",
    "\n",
    "# Split into train and test\n",
    "X_train, X_test, y_train, y_test = train_test_split(X, y, test_size=0.2, random_state=0)\n",
    "# Split into train and val\n",
    "X_train, X_val, y_train, y_val = train_test_split(X_train, y_train, test_size=0.2, random_state=0)"
   ]
  },
  {
   "cell_type": "code",
   "execution_count": 88,
   "id": "feb494c9-4988-4370-acbe-61af7c37ac6c",
   "metadata": {},
   "outputs": [],
   "source": [
    "# data scaling \n",
    "scaler = StandardScaler()\n",
    "scaler.fit(X_train)\n",
    "X_train = scaler.transform(X_train)\n",
    "X_test = scaler.transform(X_test)\n",
    "X_val = scaler.transform(X_val)"
   ]
  },
  {
   "cell_type": "code",
   "execution_count": 89,
   "id": "9af88d34-42a2-459e-b5d9-82089eba328d",
   "metadata": {},
   "outputs": [],
   "source": [
    "# Hyperparameters\n",
    "learning_rate = 0.01\n",
    "batch_size = 20\n",
    "num_epochs = 20\n",
    "n_hidden1 = 50\n",
    "n_hidden2 = 100\n",
    "n_input = X_train.shape[1]\n",
    "n_samples = X_train.shape[0]\n",
    "n_classes = 3"
   ]
  },
  {
   "cell_type": "code",
   "execution_count": 90,
   "id": "f22e8909-02aa-4485-955f-71983dac1bf8",
   "metadata": {},
   "outputs": [
    {
     "data": {
      "text/plain": [
       "NeuralNet(\n",
       "  (fc1): Linear(in_features=4, out_features=50, bias=True)\n",
       "  (relu1): ReLU()\n",
       "  (fc2): Linear(in_features=50, out_features=100, bias=True)\n",
       "  (relu2): ReLU()\n",
       "  (out): Linear(in_features=100, out_features=3, bias=True)\n",
       ")"
      ]
     },
     "execution_count": 90,
     "metadata": {},
     "output_type": "execute_result"
    }
   ],
   "source": [
    "model = NeuralNet(input_size=n_input,\n",
    "                  hidden_size1=n_hidden1,\n",
    "                  hidden_size2=n_hidden2,\n",
    "                  num_classes=n_classes).to(device)\n",
    "model"
   ]
  },
  {
   "cell_type": "code",
   "execution_count": 91,
   "id": "cde1c210-485d-4a03-81c2-ecca9a89dfbb",
   "metadata": {},
   "outputs": [],
   "source": [
    "# pytorch dataloader \n",
    "train_loader = Loader(X_train, y_train)\n",
    "val_loader = Loader(X_val, y_val)\n",
    "test_loader = Loader(X_test, y_test)"
   ]
  },
  {
   "cell_type": "code",
   "execution_count": 92,
   "id": "3261995e-e89d-4f86-bdea-771d2816c5b5",
   "metadata": {},
   "outputs": [
    {
     "name": "stdout",
     "output_type": "stream",
     "text": [
      "Epoch [1/20], Step [2/6], Loss: 0.8448\n",
      "Epoch [1/20], Step [4/6], Loss: 0.5308\n",
      "Epoch [1/20], Step [6/6], Loss: 0.5554\n",
      "Epoch [2/20], Step [2/6], Loss: 0.4433\n",
      "Epoch [2/20], Step [4/6], Loss: 0.6853\n",
      "Epoch [2/20], Step [6/6], Loss: 0.2294\n",
      "Epoch [3/20], Step [2/6], Loss: 0.2143\n",
      "Epoch [3/20], Step [4/6], Loss: 0.1269\n",
      "Epoch [3/20], Step [6/6], Loss: 0.4954\n",
      "Epoch [4/20], Step [2/6], Loss: 0.1589\n",
      "Epoch [4/20], Step [4/6], Loss: 0.2002\n",
      "Epoch [4/20], Step [6/6], Loss: 0.1787\n",
      "Epoch [5/20], Step [2/6], Loss: 0.1315\n",
      "Epoch [5/20], Step [4/6], Loss: 0.0444\n",
      "Epoch [5/20], Step [6/6], Loss: 0.1140\n",
      "Epoch [6/20], Step [2/6], Loss: 0.1004\n",
      "Epoch [6/20], Step [4/6], Loss: 0.0580\n",
      "Epoch [6/20], Step [6/6], Loss: 0.1000\n",
      "Epoch [7/20], Step [2/6], Loss: 0.0203\n",
      "Epoch [7/20], Step [4/6], Loss: 0.0212\n",
      "Epoch [7/20], Step [6/6], Loss: 0.0279\n",
      "Epoch [8/20], Step [2/6], Loss: 0.0200\n",
      "Epoch [8/20], Step [4/6], Loss: 0.2237\n",
      "Epoch [8/20], Step [6/6], Loss: 0.0845\n",
      "Epoch [9/20], Step [2/6], Loss: 0.0650\n",
      "Epoch [9/20], Step [4/6], Loss: 0.2043\n",
      "Epoch [9/20], Step [6/6], Loss: 0.0021\n",
      "Epoch [10/20], Step [2/6], Loss: 0.1053\n",
      "Epoch [10/20], Step [4/6], Loss: 0.0290\n",
      "Epoch [10/20], Step [6/6], Loss: 0.0728\n",
      "Epoch [11/20], Step [2/6], Loss: 0.0317\n",
      "Epoch [11/20], Step [4/6], Loss: 0.0160\n",
      "Epoch [11/20], Step [6/6], Loss: 0.0040\n",
      "Epoch [12/20], Step [2/6], Loss: 0.0401\n",
      "Epoch [12/20], Step [4/6], Loss: 0.0057\n",
      "Epoch [12/20], Step [6/6], Loss: 0.0023\n",
      "Epoch [13/20], Step [2/6], Loss: 0.5336\n",
      "Epoch [13/20], Step [4/6], Loss: 0.0052\n",
      "Epoch [13/20], Step [6/6], Loss: 0.0012\n",
      "Epoch [14/20], Step [2/6], Loss: 0.0709\n",
      "Epoch [14/20], Step [4/6], Loss: 0.0019\n",
      "Epoch [14/20], Step [6/6], Loss: 0.2165\n",
      "Epoch [15/20], Step [2/6], Loss: 0.1640\n",
      "Epoch [15/20], Step [4/6], Loss: 0.0238\n",
      "Epoch [15/20], Step [6/6], Loss: 0.0285\n",
      "Epoch [16/20], Step [2/6], Loss: 0.0494\n",
      "Epoch [16/20], Step [4/6], Loss: 0.0179\n",
      "Epoch [16/20], Step [6/6], Loss: 0.0019\n",
      "Epoch [17/20], Step [2/6], Loss: 0.0050\n",
      "Epoch [17/20], Step [4/6], Loss: 0.0548\n",
      "Epoch [17/20], Step [6/6], Loss: 0.0622\n",
      "Epoch [18/20], Step [2/6], Loss: 0.0026\n",
      "Epoch [18/20], Step [4/6], Loss: 0.0027\n",
      "Epoch [18/20], Step [6/6], Loss: 0.0007\n",
      "Epoch [19/20], Step [2/6], Loss: 0.0253\n",
      "Epoch [19/20], Step [4/6], Loss: 0.0564\n",
      "Epoch [19/20], Step [6/6], Loss: 0.0246\n",
      "Epoch [20/20], Step [2/6], Loss: 0.0011\n",
      "Epoch [20/20], Step [4/6], Loss: 0.0248\n",
      "Epoch [20/20], Step [6/6], Loss: 0.0352\n"
     ]
    }
   ],
   "source": [
    "# Loss and optimizer\n",
    "criterion = nn.CrossEntropyLoss()\n",
    "optimizer = torch.optim.Adam(model.parameters(), lr=learning_rate)  \n",
    "\n",
    "# Train the model\n",
    "total_step = len(train_loader)\n",
    "for epoch in range(num_epochs):\n",
    "    for i, (x, y) in enumerate(train_loader):  \n",
    "        # Move tensors to the configured device\n",
    "        x = x.to(device)\n",
    "        y = y.to(device)\n",
    "        \n",
    "        # Forward pass\n",
    "        logit = model(x)\n",
    "        loss = criterion(logit, y.long())\n",
    "        \n",
    "        # Backward and optimize\n",
    "        optimizer.zero_grad()\n",
    "        loss.backward()\n",
    "        optimizer.step()\n",
    "        \n",
    "        if (i+1) % 2 == 0:\n",
    "            print ('Epoch [{}/{}], Step [{}/{}], Loss: {:.4f}' \n",
    "                   .format(epoch+1, num_epochs, i+1, total_step, loss.item()))"
   ]
  },
  {
   "cell_type": "code",
   "execution_count": 93,
   "id": "a013b7af-d616-41f8-a509-b5c38ca29cb3",
   "metadata": {},
   "outputs": [
    {
     "data": {
      "text/plain": [
       "0.8"
      ]
     },
     "execution_count": 93,
     "metadata": {},
     "output_type": "execute_result"
    }
   ],
   "source": [
    "y_true = []\n",
    "preds = []\n",
    "for i, (x, y) in enumerate(test_loader):  \n",
    "    x = x.to(device)\n",
    "    y = y.to(device)\n",
    "\n",
    "    logit = model(x)\n",
    "    y_true.append(y)\n",
    "    _, predicted = torch.max(logit.data, 1)\n",
    "    preds.append(predicted)\n",
    "\n",
    "preds = torch.cat(preds, axis=0).detach().cpu().numpy()\n",
    "y_true = torch.cat(y_true, axis=0).detach().cpu().numpy()\n",
    "accuracy_score(y_true, np.where(preds>=0.5, 1, 0))"
   ]
  }
 ],
 "metadata": {
  "kernelspec": {
   "display_name": "Python 3 (ipykernel)",
   "language": "python",
   "name": "python3"
  },
  "language_info": {
   "codemirror_mode": {
    "name": "ipython",
    "version": 3
   },
   "file_extension": ".py",
   "mimetype": "text/x-python",
   "name": "python",
   "nbconvert_exporter": "python",
   "pygments_lexer": "ipython3",
   "version": "3.12.3"
  }
 },
 "nbformat": 4,
 "nbformat_minor": 5
}
