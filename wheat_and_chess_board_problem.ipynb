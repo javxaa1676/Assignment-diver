{
 "cells": [
  {
   "cell_type": "markdown",
   "id": "8e626d40-a090-4d82-9303-61331e428e57",
   "metadata": {},
   "source": [
    "[Problem 1] Number of wheat on a 2 x 2 square chess board"
   ]
  },
  {
   "cell_type": "code",
   "execution_count": 1,
   "id": "fbbd0fb9-2dd1-4cce-8e82-839bd352b60e",
   "metadata": {},
   "outputs": [
    {
     "name": "stdout",
     "output_type": "stream",
     "text": [
      "4 arrange the wheat on the square board (list)：[1, 2, 4, 8]\n"
     ]
    }
   ],
   "source": [
    "import numpy as np\n",
    "n_squares = 4\n",
    "small_board_list = [1]\n",
    "for _ in range(n_squares - 1):\n",
    "    small_board_list.append(2*small_board_list[-1])\n",
    "print(\"4 arrange the wheat on the square board (list)：{}\".format(small_board_list))"
   ]
  },
  {
   "cell_type": "code",
   "execution_count": 2,
   "id": "45cb6651-8424-4ebd-a03e-b6fb212c4d1f",
   "metadata": {},
   "outputs": [
    {
     "name": "stdout",
     "output_type": "stream",
     "text": [
      "4arrange the wheat on the square board（ndarray）：[1 2 4 8]\n"
     ]
    }
   ],
   "source": [
    "small_board_ndarray = np.array(small_board_list)\n",
    "print(\"4arrange the wheat on the square board（ndarray）：{}\".format(small_board_ndarray))"
   ]
  },
  {
   "cell_type": "code",
   "execution_count": 3,
   "id": "edc9d4f9-e831-4f30-b412-7612261fe28b",
   "metadata": {},
   "outputs": [
    {
     "name": "stdout",
     "output_type": "stream",
     "text": [
      "4arrange the wheat on the square board（ndarray）：[1 2 4 8]\n"
     ]
    }
   ],
   "source": [
    "small_board_ndarray = np.array(small_board_list)\n",
    "print(\"4arrange the wheat on the square board（ndarray）：{}\".format(small_board_ndarray))"
   ]
  },
  {
   "cell_type": "code",
   "execution_count": 4,
   "id": "87cffee8-de6e-4df8-833f-32d9dfadd442",
   "metadata": {},
   "outputs": [
    {
     "data": {
      "text/plain": [
       "array([[1., 1., 1., 1.],\n",
       "       [1., 1., 1., 1.],\n",
       "       [1., 1., 1., 1.],\n",
       "       [1., 1., 1., 1.]])"
      ]
     },
     "execution_count": 4,
     "metadata": {},
     "output_type": "execute_result"
    }
   ],
   "source": [
    "chess_board = np.ones((4, 4))\n",
    "chess_board"
   ]
  },
  {
   "cell_type": "code",
   "execution_count": 5,
   "id": "dad8d5ee-0049-4172-81d4-d59b47450b54",
   "metadata": {},
   "outputs": [],
   "source": [
    "for row in range(0, chess_board.shape[0]):\n",
    "    prev_row = row\n",
    "    for col in range(chess_board.shape[1]):\n",
    "        if row==0 and col==0:\n",
    "            chess_board[row, col] = 1\n",
    "        elif col>0 and prev_row==row:\n",
    "            chess_board[row, col] = 2*chess_board[row, col-1]\n",
    "        elif row>0 and col==0:\n",
    "            chess_board[row, col] = 2*chess_board[row-1, -1]"
   ]
  },
  {
   "cell_type": "code",
   "execution_count": 6,
   "id": "58823a54-3457-4156-95d1-5db3de01d5bd",
   "metadata": {},
   "outputs": [
    {
     "data": {
      "text/plain": [
       "array([[    1,     2,     4,     8],\n",
       "       [   16,    32,    64,   128],\n",
       "       [  256,   512,  1024,  2048],\n",
       "       [ 4096,  8192, 16384, 32768]], dtype=int64)"
      ]
     },
     "execution_count": 6,
     "metadata": {},
     "output_type": "execute_result"
    }
   ],
   "source": [
    "chess_board.astype('int64')"
   ]
  },
  {
   "cell_type": "markdown",
   "id": "daf3b795-bb04-4328-a1a7-82aaab589b84",
   "metadata": {},
   "source": [
    "[Problem 2] Expansion to n × m mass"
   ]
  },
  {
   "cell_type": "code",
   "execution_count": 9,
   "id": "6deff98b-9dfc-48a9-850f-01d048ad9d71",
   "metadata": {},
   "outputs": [],
   "source": [
    "def wheat_chessboard(matrix_height, matrix_width):\n",
    "    chess_board = np.zeros((matrix_height, matrix_width))\n",
    "\n",
    "    for row in range(0, chess_board.shape[0]):\n",
    "        prev_row = row\n",
    "        for col in range(chess_board.shape[1]):\n",
    "            if row==0 and col==0:\n",
    "                chess_board[row, col] = 1\n",
    "            elif col>0 and prev_row==row:\n",
    "                chess_board[row, col] = 2*chess_board[row, col-1]\n",
    "            elif row>0 and col==0:\n",
    "                chess_board[row, col] = 2*chess_board[row-1, -1]\n",
    "\n",
    "    return chess_board"
   ]
  },
  {
   "cell_type": "code",
   "execution_count": 26,
   "id": "a7a013a1-fca8-45e9-9026-484ef6d182d4",
   "metadata": {},
   "outputs": [
    {
     "name": "stderr",
     "output_type": "stream",
     "text": [
      "C:\\Users\\o.oyuntuya\\AppData\\Local\\Temp\\ipykernel_2064\\846351900.py:4: RuntimeWarning: invalid value encountered in cast\n",
      "  wheat_chessboard(matrix_height=n, matrix_width=m).astype('int')\n"
     ]
    },
    {
     "data": {
      "text/plain": [
       "array([[          1,           2,           4,           8,          16,\n",
       "                 32,          64,         128],\n",
       "       [        256,         512,        1024,        2048,        4096,\n",
       "               8192,       16384,       32768],\n",
       "       [      65536,      131072,      262144,      524288,     1048576,\n",
       "            2097152,     4194304,     8388608],\n",
       "       [   16777216,    33554432,    67108864,   134217728,   268435456,\n",
       "          536870912,  1073741824, -2147483648],\n",
       "       [-2147483648, -2147483648, -2147483648, -2147483648, -2147483648,\n",
       "        -2147483648, -2147483648, -2147483648],\n",
       "       [-2147483648, -2147483648, -2147483648, -2147483648, -2147483648,\n",
       "        -2147483648, -2147483648, -2147483648],\n",
       "       [-2147483648, -2147483648, -2147483648, -2147483648, -2147483648,\n",
       "        -2147483648, -2147483648, -2147483648],\n",
       "       [-2147483648, -2147483648, -2147483648, -2147483648, -2147483648,\n",
       "        -2147483648, -2147483648, -2147483648]])"
      ]
     },
     "execution_count": 26,
     "metadata": {},
     "output_type": "execute_result"
    }
   ],
   "source": [
    "### n x m \n",
    "n = 8\n",
    "m = 8\n",
    "wheat_chessboard(matrix_height=n, matrix_width=m).astype('int')"
   ]
  },
  {
   "cell_type": "markdown",
   "id": "c89beee0-416e-4650-b829-bb0435d465c6",
   "metadata": {},
   "source": [
    "[Problem 3] Total number of wheat"
   ]
  },
  {
   "cell_type": "code",
   "execution_count": 11,
   "id": "eab692c4-2dc4-4525-b76a-37ad2db05533",
   "metadata": {},
   "outputs": [],
   "source": [
    "import matplotlib.pyplot as plt\n",
    "%matplotlib inline"
   ]
  },
  {
   "cell_type": "code",
   "execution_count": 27,
   "id": "30b9fc58-95b8-4b71-8495-c877ab2dbf51",
   "metadata": {},
   "outputs": [],
   "source": [
    "n = 8\n",
    "m = 8\n",
    "chess_board = wheat_chessboard(matrix_height=n, matrix_width=m)"
   ]
  },
  {
   "cell_type": "code",
   "execution_count": 28,
   "id": "119bda38-d2e3-4d8e-8dba-b70f39420071",
   "metadata": {},
   "outputs": [
    {
     "data": {
      "text/plain": [
       "array([9.04252160e+15, 1.80850432e+16, 3.61700864e+16, 7.23401728e+16,\n",
       "       1.44680346e+17, 2.89360691e+17, 5.78721383e+17, 1.15744277e+18])"
      ]
     },
     "execution_count": 28,
     "metadata": {},
     "output_type": "execute_result"
    }
   ],
   "source": [
    "avg_cols = chess_board.mean(axis=0)\n",
    "avg_cols"
   ]
  },
  {
   "cell_type": "code",
   "execution_count": 29,
   "id": "1659b2ad-7880-4417-9d32-ed471025e9b5",
   "metadata": {},
   "outputs": [
    {
     "data": {
      "image/png": "[encoded data removed]",
      "text/plain": [
       "<Figure size 640x480 with 1 Axes>"
      ]
     },
     "metadata": {},
     "output_type": "display_data"
    }
   ],
   "source": [
    "plt.xlabel(\"column\")\n",
    "plt.ylabel(\"number of wheat\")\n",
    "plt.title(\"average wheat in each column\")\n",
    "plt.bar(np.arange(1, 9), avg_cols)\n",
    "plt.show()"
   ]
  },
  {
   "cell_type": "markdown",
   "id": "fa0f1f45-227b-47b3-b430-2289219c0fa2",
   "metadata": {},
   "source": [
    "[Problem 4] Heat map of the number of wheat"
   ]
  },
  {
   "cell_type": "code",
   "execution_count": 32,
   "id": "6b72ccb9-df1a-4493-b930-b0786dcf6e43",
   "metadata": {},
   "outputs": [],
   "source": [
    "n = 2\n",
    "m = 4\n",
    "chess_board = wheat_chessboard(matrix_height=n, matrix_width=m)"
   ]
  },
  {
   "cell_type": "code",
   "execution_count": 33,
   "id": "193928f2-1af1-45ad-b599-16ea9714afcc",
   "metadata": {},
   "outputs": [
    {
     "data": {
      "image/png": "[encoded data removed]",
      "text/plain": [
       "<Figure size 640x480 with 1 Axes>"
      ]
     },
     "metadata": {},
     "output_type": "display_data"
    }
   ],
   "source": [
    "plt.xlabel(\"column\")\n",
    "plt.ylabel(\"row\")\n",
    "plt.title(\"heatmap\")\n",
    "plt.pcolor((chess_board))\n",
    "plt.show()"
   ]
  },
  {
   "cell_type": "markdown",
   "id": "9b502aa1-871a-46c5-820a-6e4bae911a94",
   "metadata": {},
   "source": [
    "[Problem 5] How many times is the second half as long as the first half?"
   ]
  },
  {
   "cell_type": "code",
   "execution_count": 34,
   "id": "3665795e-0d19-4473-9657-62e82b72a84a",
   "metadata": {},
   "outputs": [
    {
     "name": "stdout",
     "output_type": "stream",
     "text": [
      "The second half is 4294967296.0 times larger than the first half\n"
     ]
    }
   ],
   "source": [
    "n = 8\n",
    "m = 8\n",
    "chess_board = wheat_chessboard(matrix_height=n, matrix_width=m)\n",
    "\n",
    "first_half = np.sum(chess_board[:4, :])\n",
    "second_half = np.sum(chess_board[4:, :])\n",
    "\n",
    "times = second_half / first_half\n",
    "print(f\"The second half is {times} times larger than the first half\")"
   ]
  },
  {
   "cell_type": "markdown",
   "id": "675c5e40-1641-4afe-9120-8cc8d1a24e85",
   "metadata": {},
   "source": [
    "[Problem 6] Expansion to n × m mass by another calculation method"
   ]
  },
  {
   "cell_type": "code",
   "execution_count": 48,
   "id": "6239d2e5-8820-4e68-94f6-533fd9485a51",
   "metadata": {},
   "outputs": [],
   "source": [
    "def wheat_chessboard_numpy(matrix_height, matrix_width):\n",
    "\n",
    "    ### TODO comment\n",
    "    \n",
    "    indices_of_squares = np.arange(matrix_height*matrix_width).astype(\"int64\")\n",
    "    chess_board = 2**indices_of_squares\n",
    "    chess_board = chess_board.reshape((matrix_height, matrix_width))\n",
    "\n",
    "    return chess_board"
   ]
  },
  {
   "cell_type": "code",
   "execution_count": 49,
   "id": "eed05284-01d9-4c6f-9a54-420c8c7f5068",
   "metadata": {},
   "outputs": [
    {
     "data": {
      "text/plain": [
       "array([[                   1,                    2,                    4,\n",
       "                           8,                   16,                   32,\n",
       "                          64,                  128],\n",
       "       [                 256,                  512,                 1024,\n",
       "                        2048,                 4096,                 8192,\n",
       "                       16384,                32768],\n",
       "       [               65536,               131072,               262144,\n",
       "                      524288,              1048576,              2097152,\n",
       "                     4194304,              8388608],\n",
       "       [            16777216,             33554432,             67108864,\n",
       "                   134217728,            268435456,            536870912,\n",
       "                  1073741824,           2147483648],\n",
       "       [          4294967296,           8589934592,          17179869184,\n",
       "                 34359738368,          68719476736,         137438953472,\n",
       "                274877906944,         549755813888],\n",
       "       [       1099511627776,        2199023255552,        4398046511104,\n",
       "               8796093022208,       17592186044416,       35184372088832,\n",
       "              70368744177664,      140737488355328],\n",
       "       [     281474976710656,      562949953421312,     1125899906842624,\n",
       "            2251799813685248,     4503599627370496,     9007199254740992,\n",
       "           18014398509481984,    36028797018963968],\n",
       "       [   72057594037927936,   144115188075855872,   288230376151711744,\n",
       "          576460752303423488,  1152921504606846976,  2305843009213693952,\n",
       "         4611686018427387904, -9223372036854775808]], dtype=int64)"
      ]
     },
     "execution_count": 49,
     "metadata": {},
     "output_type": "execute_result"
    }
   ],
   "source": [
    "n = 8\n",
    "m = 8\n",
    "chess_board = wheat_chessboard_numpy(matrix_height=n, matrix_width=m)\n",
    "chess_board"
   ]
  },
  {
   "cell_type": "markdown",
   "id": "62267bee-c43c-4d2c-863a-f3824d116dc7",
   "metadata": {},
   "source": [
    "[Problem 7] Comparing calculation times"
   ]
  },
  {
   "cell_type": "code",
   "execution_count": 50,
   "id": "b503c8cf-e5d6-459d-ac75-cfc743483987",
   "metadata": {},
   "outputs": [
    {
     "name": "stdout",
     "output_type": "stream",
     "text": [
      "21.2 µs ± 653 ns per loop (mean ± std. dev. of 7 runs, 10,000 loops each)\n"
     ]
    }
   ],
   "source": [
    "%%timeit\n",
    "n = 8\n",
    "m = 8\n",
    "chess_board = wheat_chessboard(matrix_height=n, matrix_width=m)\n",
    "chess_board"
   ]
  },
  {
   "cell_type": "code",
   "execution_count": 51,
   "id": "66f0a910-9f3b-40f0-8627-bb52bf1c565a",
   "metadata": {},
   "outputs": [
    {
     "name": "stdout",
     "output_type": "stream",
     "text": [
      "4.49 µs ± 99.4 ns per loop (mean ± std. dev. of 7 runs, 100,000 loops each)\n"
     ]
    }
   ],
   "source": [
    "%%timeit\n",
    "n = 8\n",
    "m = 8\n",
    "chess_board = wheat_chessboard_numpy(matrix_height=n, matrix_width=m)\n",
    "chess_board"
   ]
  }
 ],
 "metadata": {
  "kernelspec": {
   "display_name": "Python 3 (ipykernel)",
   "language": "python",
   "name": "python3"
  },
  "language_info": {
   "codemirror_mode": {
    "name": "ipython",
    "version": 3
   },
   "file_extension": ".py",
   "mimetype": "text/x-python",
   "name": "python",
   "nbconvert_exporter": "python",
   "pygments_lexer": "ipython3",
   "version": "3.12.2"
  }
 },
 "nbformat": 4,
 "nbformat_minor": 5
}
