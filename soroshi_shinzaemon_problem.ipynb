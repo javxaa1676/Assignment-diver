{
 "cells": [
  {
   "cell_type": "markdown",
   "id": "d60464a6-4115-4dfa-bf01-7f7ba392d0a6",
   "metadata": {},
   "source": [
    "[Problem 1] Number of grains of rice on the 100th day"
   ]
  },
  {
   "cell_type": "code",
   "execution_count": 6,
   "id": "ae1c264a-a6be-4b1b-9a00-b47a5030315a",
   "metadata": {},
   "outputs": [
    {
     "ename": "ModuleNotFoundError",
     "evalue": "No module named 'matplotlib'",
     "output_type": "error",
     "traceback": [
      "\u001b[1;31m---------------------------------------------------------------------------\u001b[0m",
      "\u001b[1;31mModuleNotFoundError\u001b[0m                       Traceback (most recent call last)",
      "Cell \u001b[1;32mIn[6], line 1\u001b[0m\n\u001b[1;32m----> 1\u001b[0m \u001b[38;5;28;01mimport\u001b[39;00m \u001b[38;5;21;01mmatplotlib\u001b[39;00m\u001b[38;5;21;01m.\u001b[39;00m\u001b[38;5;21;01mpyplot\u001b[39;00m \u001b[38;5;28;01mas\u001b[39;00m \u001b[38;5;21;01mplt\u001b[39;00m\n\u001b[0;32m      3\u001b[0m rice_count \u001b[38;5;241m=\u001b[39m \u001b[38;5;241m1\u001b[39m\n\u001b[0;32m      4\u001b[0m number_of_days \u001b[38;5;241m=\u001b[39m \u001b[38;5;241m100\u001b[39m\n",
      "\u001b[1;31mModuleNotFoundError\u001b[0m: No module named 'matplotlib'"
     ]
    }
   ],
   "source": [
    "import matplotlib.pyplot as plt\n",
    "\n",
    "rice_count = 1\n",
    "number_of_days = 100\n",
    "number_of_rice = [] # create list\n",
    "number_of_rice.append(rice_count) #initial rice count\n",
    "\n",
    "### for loop ##\n",
    "for day in range(number_of_days):\n",
    "    rice_count = rice_count*2\n",
    "    number_of_rice.append(rice_count)\n",
    "\n",
    "print(\"Number of rice on 100th day:\", number_of_rice[-1])\n",
    "\n",
    "### graph \n",
    "# Display the graph. Title and axis label name.\n",
    "plt.title(\"Cumulative number of rice\")\n",
    "plt.xlabel(\"Number of days\")\n",
    "plt.ylabel(\"Number of rice\")\n",
    "plt.plot(number_of_rice)  # Enter the variable name of the list in \"List name\"\n",
    "plt.show()"
   ]
  },
  {
   "cell_type": "markdown",
   "id": "7505ea26-9271-4055-b2e9-6f46a43ab437",
   "metadata": {},
   "source": [
    "[Problem 2] Number of rice grains outside of the 100th day"
   ]
  },
  {
   "cell_type": "code",
   "execution_count": 2,
   "id": "f8f4ce2f-c44b-4ec3-975c-41692ae4bf5e",
   "metadata": {},
   "outputs": [],
   "source": [
    "def compute_sorori_shinzaemon(n_days=100):\n",
    "    ### for loop ##\n",
    "    rice_count = 1 \n",
    "    list_n_grains = []\n",
    "    list_total_grains = []\n",
    "    \n",
    "    for day in range(n_days):\n",
    "        list_n_grains.append(rice_count) #daily rice grains\n",
    "        rice_count = rice_count*2\n",
    "        list_total_grains.append(rice_count) #cumulative rice grains\n",
    "        \n",
    "    return list_n_grains, list_total_grains"
   ]
  },
  {
   "cell_type": "code",
   "execution_count": 3,
   "id": "d7aa0c70-ab7f-4c5a-8e34-d9be2ec5b9a0",
   "metadata": {},
   "outputs": [],
   "source": [
    "list_n_grains, list_total_grains = compute_sorori_shinzaemon(n_days=10)"
   ]
  },
  {
   "cell_type": "markdown",
   "id": "0db3b277-3812-48e2-810f-76f745426010",
   "metadata": {},
   "source": [
    "[Problem 3] How many people can live for how many days with the rice we get?"
   ]
  },
  {
   "cell_type": "code",
   "execution_count": 4,
   "id": "40a94b64-5c95-44a8-912b-49c415aad7e8",
   "metadata": {},
   "outputs": [],
   "source": [
    "def compute_number_days(number_of_rice, \n",
    "                        number_of_people, \n",
    "                        daily_usage = 19200):\n",
    "    # formula \n",
    "    total_usage_for_all_people = number_of_people*daily_usage\n",
    "    number_of_days_to_live = int(number_of_rice/total_usage_for_all_people)\n",
    "\n",
    "    return number_of_days_to_live"
   ]
  },
  {
   "cell_type": "code",
   "execution_count": 5,
   "id": "9be9dfb8-7c68-4770-9aca-30582298ea7e",
   "metadata": {},
   "outputs": [
    {
     "name": "stdout",
     "output_type": "stream",
     "text": [
      "The 10 can live 5 days eating 1048576.\n"
     ]
    }
   ],
   "source": [
    "number_of_rice = 2**20\n",
    "number_people = 10\n",
    "number_of_days = compute_number_days(number_of_rice=number_of_rice, \n",
    "                                     number_of_people=number_people, \n",
    "                                     daily_usage = 19200)\n",
    "\n",
    "print(f\"The {number_people} can live {number_of_days} days eating {number_of_rice}.\")"
   ]
  },
  {
   "cell_type": "code",
   "execution_count": null,
   "id": "fece9adc-9092-4741-9c4c-0949e28405f4",
   "metadata": {},
   "outputs": [],
   "source": []
  },
  {
   "cell_type": "code",
   "execution_count": null,
   "id": "10fc3dbc-0dde-4498-850b-ebb3ccc728be",
   "metadata": {},
   "outputs": [],
   "source": []
  }
 ],
 "metadata": {
  "kernelspec": {
   "display_name": "Python 3 (ipykernel)",
   "language": "python",
   "name": "python3"
  },
  "language_info": {
   "codemirror_mode": {
    "name": "ipython",
    "version": 3
   },
   "file_extension": ".py",
   "mimetype": "text/x-python",
   "name": "python",
   "nbconvert_exporter": "python",
   "pygments_lexer": "ipython3",
   "version": "3.10.11"
  }
 },
 "nbformat": 4,
 "nbformat_minor": 5
}
