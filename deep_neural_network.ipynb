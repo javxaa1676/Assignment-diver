{
 "cells": [
  {
   "cell_type": "code",
   "execution_count": 1,
   "id": "910dd023-bd38-4c48-a182-dd5c77a7d291",
   "metadata": {},
   "outputs": [],
   "source": [
    "import numpy as np"
   ]
  },
  {
   "cell_type": "markdown",
   "id": "32d3f4a1-a116-416f-9e47-f9075f65739b",
   "metadata": {},
   "source": [
    "[Problem 1] Classifying fully connected layers"
   ]
  },
  {
   "cell_type": "code",
   "execution_count": 2,
   "id": "8157a99b-9688-494b-bcf3-df227712d2d9",
   "metadata": {},
   "outputs": [],
   "source": [
    "class GetMiniBatch:\n",
    "    def __init__(self, X, y, batch_size = 20, seed=0):\n",
    "        self.batch_size = batch_size\n",
    "        np.random.seed(seed)\n",
    "        shuffle_index = np.random.permutation(np.arange(X.shape[0]))\n",
    "        self._X = X[shuffle_index]\n",
    "        self._y = y[shuffle_index]\n",
    "        self._stop = np.ceil(X.shape[0]/self.batch_size).astype(int)\n",
    "\n",
    "    def __len__(self):\n",
    "        return self._stop\n",
    "\n",
    "    def __getitem__(self,item):\n",
    "        p0 = item*self.batch_size\n",
    "        p1 = item*self.batch_size + self.batch_size\n",
    "        return self._X[p0:p1], self._y[p0:p1]\n",
    "\n",
    "    def __iter__(self):\n",
    "        self._counter = 0\n",
    "        return self\n",
    "\n",
    "    def __next__(self):\n",
    "        if self._counter >= self._stop:\n",
    "            raise StopIteration()\n",
    "        p0 = self._counter*self.batch_size\n",
    "        p1 = self._counter*self.batch_size + self.batch_size\n",
    "        self._counter += 1\n",
    "        return self._X[p0:p1], self._y[p0:p1]"
   ]
  },
  {
   "cell_type": "code",
   "execution_count": 3,
   "id": "2b6e2154-ca33-4c7a-9b7a-0111a64a74b1",
   "metadata": {},
   "outputs": [],
   "source": [
    "class FC:\n",
    "    def __init__(self, n_nodes1, n_nodes2, initializer, optimizer):\n",
    "        \n",
    "        self.optimizer = optimizer\n",
    "        self.W, self.B = initializer.W(n_nodes1, n_nodes2), initializer.B(n_nodes2)\n",
    "        \n",
    "        \n",
    "    def forward(self, X):\n",
    "        self.X = X\n",
    "        A = X @ self.W + self.B\n",
    "        \n",
    "        return A\n",
    "        \n",
    "    def backward(self, dA):\n",
    "        self.dB = np.mean(dA, axis = 0)\n",
    "        self.dW = np.dot(self.X.T, dA)/len(self.X)\n",
    "        \n",
    "        dZ = dA @ self.W.T\n",
    "        self = self.optimizer.update(self)\n",
    "        \n",
    "        return dZ"
   ]
  },
  {
   "cell_type": "markdown",
   "id": "8458f7dc-4114-4eae-9e38-018cb8c9720b",
   "metadata": {},
   "source": [
    "[Problem 2] Classifying the initialization method"
   ]
  },
  {
   "cell_type": "code",
   "execution_count": 4,
   "id": "98f31d44-4746-440d-b545-469eb99513e7",
   "metadata": {},
   "outputs": [],
   "source": [
    "class SimpleInitializer:\n",
    "    def __init__(self, sigma):\n",
    "        self.sigma = sigma\n",
    "        \n",
    "    def W(self, n_nodes1, n_nodes2):\n",
    "        W = self.sigma * np.random.randn(n_nodes1, n_nodes2)\n",
    "        return W\n",
    "        \n",
    "    def B(self, n_nodes2):\n",
    "        B = self.sigma * np.random.randn(1, n_nodes2)        \n",
    "        return B"
   ]
  },
  {
   "cell_type": "markdown",
   "id": "f428790c-e4d1-454c-b85b-597e57d41050",
   "metadata": {},
   "source": [
    "[Problem 3] Classifying optimization methods"
   ]
  },
  {
   "cell_type": "code",
   "execution_count": 5,
   "id": "c17de683-ce99-4c56-8dbe-8fede364de54",
   "metadata": {},
   "outputs": [],
   "source": [
    "class SGD:\n",
    "    def __init__(self, lr):\n",
    "        self.lr = lr\n",
    "        \n",
    "    def update(self, layer):\n",
    "        layer.W -= self.lr*layer.dW\n",
    "        layer.B -= self.lr*layer.dB\n",
    "\n",
    "        return layer"
   ]
  },
  {
   "cell_type": "code",
   "execution_count": 6,
   "id": "520eb437-ce2d-442e-a962-59a2f1b5e000",
   "metadata": {},
   "outputs": [],
   "source": [
    "class activation_func:\n",
    "\n",
    "    def __init__(self, function_type):\n",
    "        \n",
    "        self.function_type=function_type\n",
    "        \n",
    "    def forward(self, X):\n",
    "        \n",
    "        if self.function_type==\"tanh\":\n",
    "            self.A = self.tanh_function(X)\n",
    "        elif self.function_type==\"softmax\":\n",
    "            self.A = self.softmax(X)\n",
    "\n",
    "        return self.A\n",
    "        \n",
    "    def backward(self, dZ):\n",
    "\n",
    "        if self.function_type==\"tanh\":\n",
    "            grad_res = self.grad_tanh(dZ)\n",
    "        elif self.function_type==\"softmax\":\n",
    "            grad_res = self.grad_softmax(dZ)\n",
    "        return grad_res\n",
    "\n",
    "    def tanh_function(self, A):\n",
    "        return (np.exp(A)-np.exp(-A))/(np.exp(A)+np.exp(-A))\n",
    "    \n",
    "    def softmax(self, A):\n",
    "        return np.exp(A)/np.sum(np.exp(A), axis=0)\n",
    "\n",
    "    def grad_tanh(self, dZ):\n",
    "         return dZ * (1-self.A**2)\n",
    "\n",
    "    def grad_softmax(self, dZ):\n",
    "        return dZ"
   ]
  },
  {
   "cell_type": "code",
   "execution_count": 7,
   "id": "1dc05d2d-33d1-4d0a-9b21-6a01e0a52d96",
   "metadata": {},
   "outputs": [],
   "source": [
    "class ScratchSimpleDeepNeuralNetrowkClassifier():\n",
    "    def __init__(self,\n",
    "                 batch_size = 20, #number of data\n",
    "                 n_features = 784, #input size\n",
    "                 n_nodes1 = 400, # hidden size of first layer \n",
    "                 n_nodes2 = 200, # hidden size of second layer \n",
    "                 n_output = 10, # 0-9 total 10 numbers\n",
    "                 sigma = 0.02, # parameter initialize \n",
    "                 lr = 0.01, #learning rate \n",
    "                 epoch = 10, #iteration \n",
    "                 verbose=True):\n",
    "        \n",
    "        self.verbose = verbose\n",
    "        self.batch_size = batch_size\n",
    "        self.n_features = n_features\n",
    "        self.n_nodes1 = n_nodes1\n",
    "        self.n_nodes2 = n_nodes2 \n",
    "        self.n_output = n_output\n",
    "        self.sigma = sigma\n",
    "        self.lr = lr\n",
    "        self.epoch = epoch\n",
    "        self.loss_train = []\n",
    "        self.loss_val = []\n",
    "\n",
    "        #neural net initilize\n",
    "        optimizer = SGD(self.lr)\n",
    "        self.FC1 = FC(self.n_features, self.n_nodes1, SimpleInitializer(self.sigma), optimizer)\n",
    "        self.activation1 = activation_func(function_type='tanh')\n",
    "        self.FC2 = FC(self.n_nodes1, self.n_nodes2, SimpleInitializer(self.sigma), optimizer)\n",
    "        self.activation2 = activation_func(function_type='tanh')\n",
    "        self.FC3 = FC(self.n_nodes2, self.n_output, SimpleInitializer(self.sigma), optimizer)\n",
    "        self.activation3 = activation_func(function_type='softmax')\n",
    "\n",
    "    def fit(self, X, y, X_val=None, y_val=None):\n",
    "        \n",
    "        for e in range(self.epoch):\n",
    "            get_mini_batch = GetMiniBatch(X, y, batch_size=self.batch_size)\n",
    "            for mini_X_train, mini_y_train in get_mini_batch:\n",
    "                self.Z3 = self.forward(mini_X_train)\n",
    "                self.backward(mini_y_train)\n",
    "                \n",
    "            self.forward(X)\n",
    "            self.loss_train.append(self.cross_entropy_error(y, self.Z3))\n",
    "            \n",
    "            if X_val is not None:\n",
    "                self.forward(X_val)\n",
    "                self.loss_val.append(self.cross_entropy_error(y_val, self.Z3))\n",
    "                \n",
    "            if self.verbose:\n",
    "                if X_val is None:\n",
    "                    print(self.loss_train)\n",
    "                else:\n",
    "                    print(f\"Epoch {e}:\", \"Train loss:\", self.loss_train[-1], \"Val loss:\", self.loss_val[-1])\n",
    "\n",
    "    \n",
    "    def forward(self, X):\n",
    "        \n",
    "        self.A1 = self.FC1.forward(X)\n",
    "        self.Z1 = self.activation1.forward(self.A1)\n",
    "        self.A2 = self.FC2.forward(self.Z1)\n",
    "        self.Z2 = self.activation2.forward(self.A2)\n",
    "        self.A3 = self.FC3.forward(self.Z2)\n",
    "        self.Z3 = self.activation3.forward(self.A3)\n",
    "        return self.Z3\n",
    "\n",
    "    def backward(self, Y):\n",
    "\n",
    "        self.dA3 = (self.Z3 - Y)/self.batch_size\n",
    "        self.dZ2 = self.FC3.backward(self.dA3)\n",
    "        self.dA2 = self.activation2.backward(self.dZ2)\n",
    "        self.dZ1 = self.FC2.backward(self.dA2)\n",
    "        self.dA1 = self.activation1.backward(self.dZ1)\n",
    "        self.dZ0 = self.FC1.backward(self.dA1) #\n",
    "\n",
    "    \n",
    "    def cross_entropy_error(self, y, Z):\n",
    "        L = - np.sum(y * np.log(Z+1e-7)) / len(y)\n",
    "        return L\n",
    "        \n",
    "    def predict(self, X):\n",
    "        self.forward(X)\n",
    "        return np.argmax(self.Z3, axis=1)"
   ]
  },
  {
   "cell_type": "code",
   "execution_count": 8,
   "id": "889692ca-a459-48d5-98ab-4ad28d0ec2b3",
   "metadata": {},
   "outputs": [],
   "source": [
    "from sklearn.preprocessing import OneHotEncoder\n",
    "import keras"
   ]
  },
  {
   "cell_type": "code",
   "execution_count": 9,
   "id": "773124b0-8b21-4735-ab7a-26b10137f02b",
   "metadata": {},
   "outputs": [],
   "source": [
    "#### Running Sctratch ###\n",
    "(X_train, y_train), (X_test, y_test) = keras.datasets.mnist.load_data()\n",
    "X_train = X_train.reshape(-1, 784)\n",
    "X_test = X_test.reshape(-1, 784)\n",
    "\n",
    "X_train = X_train / 255.0\n",
    "X_test = X_test / 255.0\n",
    "\n",
    "X_train = X_train[:500, :] #because of computation\n",
    "X_test = X_test[:100, :]\n",
    "y_train = y_train[:500]\n",
    "y_test = y_test[:100]"
   ]
  },
  {
   "cell_type": "code",
   "execution_count": 10,
   "id": "2440935b-1273-44df-bf30-f677fa94b68f",
   "metadata": {},
   "outputs": [],
   "source": [
    "enc = OneHotEncoder(handle_unknown='ignore')\n",
    "y_train_one_hot = enc.fit_transform(y_train[:, np.newaxis])\n",
    "y_test_one_hot = enc.transform(y_test[:, np.newaxis])"
   ]
  },
  {
   "cell_type": "code",
   "execution_count": 11,
   "id": "607be427-fd2d-4aaf-81d4-b685ad73215e",
   "metadata": {},
   "outputs": [],
   "source": [
    "model_nn = ScratchSimpleDeepNeuralNetrowkClassifier(batch_size=8, epoch=50)"
   ]
  },
  {
   "cell_type": "code",
   "execution_count": 12,
   "id": "d68294d2-7fb0-4c2a-b74a-1f36c77d7809",
   "metadata": {},
   "outputs": [
    {
     "name": "stdout",
     "output_type": "stream",
     "text": [
      "Epoch 0: Train loss: 6.2136831718720655 Val loss: 4.60438081224504\n",
      "Epoch 1: Train loss: 6.210053610581267 Val loss: 4.601419813286367\n",
      "Epoch 2: Train loss: 6.206422923526074 Val loss: 4.598459211974673\n",
      "Epoch 3: Train loss: 6.202781918339373 Val loss: 4.595491082638754\n",
      "Epoch 4: Train loss: 6.19912145854705 Val loss: 4.592507551470006\n",
      "Epoch 5: Train loss: 6.195432420904617 Val loss: 4.58950075834396\n",
      "Epoch 6: Train loss: 6.191705654640755 Val loss: 4.586462820269526\n",
      "Epoch 7: Train loss: 6.187931942372871 Val loss: 4.583385796236911\n",
      "Epoch 8: Train loss: 6.184101962517381 Val loss: 4.580261653284516\n",
      "Epoch 9: Train loss: 6.180206253075032 Val loss: 4.5770822336540355\n",
      "Epoch 10: Train loss: 6.176235176730538 Val loss: 4.573839222952635\n",
      "Epoch 11: Train loss: 6.1721788872675 Val loss: 4.570524119292917\n",
      "Epoch 12: Train loss: 6.1680272973654455 Val loss: 4.5671282034364244\n",
      "Epoch 13: Train loss: 6.1637700479171045 Val loss: 4.563642510026011\n",
      "Epoch 14: Train loss: 6.159396479081914 Val loss: 4.560057800057667\n",
      "Epoch 15: Train loss: 6.154895603377379 Val loss: 4.556364534814179\n",
      "Epoch 16: Train loss: 6.1502560812041684 Val loss: 4.552552851562637\n",
      "Epoch 17: Train loss: 6.14546619930421 Val loss: 4.548612541405556\n",
      "Epoch 18: Train loss: 6.140513852764132 Val loss: 4.544533029772206\n",
      "Epoch 19: Train loss: 6.135386531298458 Val loss: 4.540303360142341\n",
      "Epoch 20: Train loss: 6.130071310677471 Val loss: 4.535912181708763\n",
      "Epoch 21: Train loss: 6.124554850301439 Val loss: 4.531347741806762\n",
      "Epoch 22: Train loss: 6.118823398063074 Val loss: 4.526597884065479\n",
      "Epoch 23: Train loss: 6.11286280377931 Val loss: 4.521650053365743\n",
      "Epoch 24: Train loss: 6.106658542605684 Val loss: 4.516491308816243\n",
      "Epoch 25: Train loss: 6.100195749963926 Val loss: 4.511108346079531\n",
      "Epoch 26: Train loss: 6.0934592696060355 Val loss: 4.505487530483319\n",
      "Epoch 27: Train loss: 6.086433716494101 Val loss: 4.499614942431844\n",
      "Epoch 28: Train loss: 6.079103556180468 Val loss: 4.493476436675289\n",
      "Epoch 29: Train loss: 6.071453202312097 Val loss: 4.487057716989677\n",
      "Epoch 30: Train loss: 6.063467133739195 Val loss: 4.480344427751272\n",
      "Epoch 31: Train loss: 6.055130032464767 Val loss: 4.473322263743475\n",
      "Epoch 32: Train loss: 6.046426943312748 Val loss: 4.465977099296066\n",
      "Epoch 33: Train loss: 6.037343455704999 Val loss: 4.458295137513491\n",
      "Epoch 34: Train loss: 6.027865907313497 Val loss: 4.450263079890355\n",
      "Epoch 35: Train loss: 6.017981608592259 Val loss: 4.441868316033217\n",
      "Epoch 36: Train loss: 6.00767908630189 Val loss: 4.433099132508711\n",
      "Epoch 37: Train loss: 5.9969483431372295 Val loss: 4.423944939028206\n",
      "Epoch 38: Train loss: 5.985781129486902 Val loss: 4.414396509276762\n",
      "Epoch 39: Train loss: 5.974171222237332 Val loss: 4.404446232727975\n",
      "Epoch 40: Train loss: 5.96211470444017 Val loss: 4.394088372795463\n",
      "Epoch 41: Train loss: 5.949610238658682 Val loss: 4.383319325705299\n",
      "Epoch 42: Train loss: 5.936659325970083 Val loss: 4.37213787358854\n",
      "Epoch 43: Train loss: 5.923266542004176 Val loss: 4.3605454245518365\n",
      "Epoch 44: Train loss: 5.909439741117236 Val loss: 4.348546231951471\n",
      "Epoch 45: Train loss: 5.895190219897395 Val loss: 4.336147584834849\n",
      "Epoch 46: Train loss: 5.880532831720692 Val loss: 4.323359961579847\n",
      "Epoch 47: Train loss: 5.865486045050116 Val loss: 4.31019713920175\n",
      "Epoch 48: Train loss: 5.850071939590397 Val loss: 4.296676251638844\n",
      "Epoch 49: Train loss: 5.834316136245382 Val loss: 4.282817791578684\n"
     ]
    }
   ],
   "source": [
    "model_nn.fit(X_train, y_train_one_hot.toarray(), X_test, y_test_one_hot.toarray())"
   ]
  },
  {
   "cell_type": "code",
   "execution_count": 13,
   "id": "fd94a407-ce7f-4fcc-a1d1-ea7b2dfb9cec",
   "metadata": {},
   "outputs": [
    {
     "name": "stdout",
     "output_type": "stream",
     "text": [
      "[7 0 1 0 4 1 4 9 0 9 0 0 9 0 1 0 4 7 3 4 9 6 2 5 4 0 7 4 0 1 3 1 3 0 7 2 7\n",
      " 1 1 1 1 7 9 1 1 3 1 6 9 4 6 0 0 5 2 0 4 1 4 5 7 2 4 2 7 5 2 4 3 0 7 0 0 1\n",
      " 1 1 3 7 1 7 9 6 2 7 3 3 7 3 6 1 3 6 8 3 1 2 8 1 0 9]\n",
      "Accuracy: 0.64\n"
     ]
    }
   ],
   "source": [
    "from sklearn.metrics import accuracy_score, f1_score\n",
    "\n",
    "pred = model_nn.predict(X_test)\n",
    "print(pred)\n",
    "acc = accuracy_score(y_test, pred)\n",
    "print(\"Accuracy:\", acc)"
   ]
  },
  {
   "cell_type": "code",
   "execution_count": 14,
   "id": "7b5a7139-5a70-414d-9ec2-f7fa3d143cc7",
   "metadata": {},
   "outputs": [
    {
     "data": {
      "image/png": "[encoded data removed]",
      "text/plain": [
       "<Figure size 640x480 with 1 Axes>"
      ]
     },
     "metadata": {},
     "output_type": "display_data"
    }
   ],
   "source": [
    "import matplotlib.pyplot as plt\n",
    "fig = plt.subplots()\n",
    "plt.title(\"Loss learning graph\")\n",
    "plt.xlabel(\"epoch\")\n",
    "plt.ylabel('Loss')\n",
    "plt.plot(model_nn.loss_train)\n",
    "plt.show()"
   ]
  },
  {
   "cell_type": "code",
   "execution_count": 15,
   "id": "7dbfaa3c-2786-4120-bfa8-06b3129b6bac",
   "metadata": {},
   "outputs": [],
   "source": [
    "class XavierInitializer:\n",
    "\n",
    "    def __init__(self):\n",
    "        self.n_prev_nodes = 1\n",
    "        pass\n",
    "        \n",
    "    def W(self, n_nodes1, n_nodes2):\n",
    "        self.n_prev_nodes = n_nodes1\n",
    "        W = np.random.randn(n_nodes1, n_nodes2) / np.sqrt(n_nodes1)\n",
    "        return W\n",
    "    \n",
    "    def B(self, n_nodes2):\n",
    "        B = np.random.randn(1, n_nodes2) / np.sqrt(self.n_prev_nodes)\n",
    "        return B"
   ]
  },
  {
   "cell_type": "code",
   "execution_count": 16,
   "id": "5a2360b3-cb85-4608-a237-a524c67de926",
   "metadata": {},
   "outputs": [],
   "source": [
    "class HeInitializer:\n",
    " \n",
    "    def __init__(self):\n",
    "        self.n_prev_nodes = 1\n",
    "        pass\n",
    "        \n",
    "    def W(self, n_nodes1, n_nodes2):\n",
    "        self.n_prev_nodes = n_nodes1\n",
    "        W = np.random.randn(n_nodes1, n_nodes2) * np.sqrt(2 / n_nodes1)\n",
    "        return W\n",
    "    \n",
    "    def B(self, n_nodes2):\n",
    "        B = np.random.randn(1, n_nodes2) * np.sqrt(2 / self.n_prev_nodes)\n",
    "        return B"
   ]
  },
  {
   "cell_type": "code",
   "execution_count": 17,
   "id": "128480fd-d4cf-415a-83b1-d00190ba33ba",
   "metadata": {},
   "outputs": [],
   "source": [
    "class AdaGrad:\n",
    "  \n",
    "    def __init__(self, lr):\n",
    "        self.lr = lr\n",
    "        self.H_B = 1\n",
    "        self.H_W = 1\n",
    "    def update(self, layer):\n",
    "            \n",
    "        self.H_B = self.H_B + np.average(layer.dA)**2\n",
    "        self.H_W = self.H_W + np.average(layer.dW)**2\n",
    "        \n",
    "        layer.B = layer.B - self.lr * np.average(layer.dA, axis=0) / np.sqrt(self.H_B)\n",
    "        layer.W = layer.W - self.lr * layer.dW / layer.dA.shape[0] / np.sqrt(self.H_W)\n",
    "        \n",
    "        return layer"
   ]
  }
 ],
 "metadata": {
  "kernelspec": {
   "display_name": "Python 3 (ipykernel)",
   "language": "python",
   "name": "python3"
  },
  "language_info": {
   "codemirror_mode": {
    "name": "ipython",
    "version": 3
   },
   "file_extension": ".py",
   "mimetype": "text/x-python",
   "name": "python",
   "nbconvert_exporter": "python",
   "pygments_lexer": "ipython3",
   "version": "3.12.3"
  }
 },
 "nbformat": 4,
 "nbformat_minor": 5
}
